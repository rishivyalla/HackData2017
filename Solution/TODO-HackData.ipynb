{
 "cells": [
  {
   "cell_type": "markdown",
   "metadata": {},
   "source": [
    "## Blight Prediction - Detroit"
   ]
  },
  {
   "cell_type": "markdown",
   "metadata": {},
   "source": [
    "### Necessary Imports"
   ]
  },
  {
   "cell_type": "code",
   "execution_count": 99,
   "metadata": {},
   "outputs": [
    {
     "name": "stderr",
     "output_type": "stream",
     "text": [
      "/home/madhur/anaconda3/lib/python3.6/site-packages/sklearn/cross_validation.py:41: DeprecationWarning: This module was deprecated in version 0.18 in favor of the model_selection module into which all the refactored classes and functions are moved. Also note that the interface of the new CV iterators are different from that of this module. This module will be removed in 0.20.\n",
      "  \"This module will be removed in 0.20.\", DeprecationWarning)\n"
     ]
    }
   ],
   "source": [
    "import numpy as np\n",
    "import matplotlib.pyplot as plt\n",
    "%matplotlib inline\n",
    "import seaborn as sns\n",
    "import pandas as pd\n",
    "pd.options.display.max_columns = None\n",
    "from IPython.display import Image, display\n",
    "from util import *\n",
    "from ast import literal_eval\n",
    "import random\n",
    "from sklearn import linear_model\n",
    "from sklearn.cross_validation import train_test_split"
   ]
  },
  {
   "cell_type": "markdown",
   "metadata": {},
   "source": [
    "### Read Demolition Permits Data"
   ]
  },
  {
   "cell_type": "code",
   "execution_count": 2,
   "metadata": {},
   "outputs": [],
   "source": [
    "permits = pd.read_table('detroit-demolition-permits.tsv')"
   ]
  },
  {
   "cell_type": "code",
   "execution_count": 3,
   "metadata": {},
   "outputs": [
    {
     "data": {
      "text/html": [
       "<div>\n",
       "<style>\n",
       "    .dataframe thead tr:only-child th {\n",
       "        text-align: right;\n",
       "    }\n",
       "\n",
       "    .dataframe thead th {\n",
       "        text-align: left;\n",
       "    }\n",
       "\n",
       "    .dataframe tbody tr th {\n",
       "        vertical-align: top;\n",
       "    }\n",
       "</style>\n",
       "<table border=\"1\" class=\"dataframe\">\n",
       "  <thead>\n",
       "    <tr style=\"text-align: right;\">\n",
       "      <th></th>\n",
       "      <th>PERMIT_NO</th>\n",
       "      <th>PERMIT_APPLIED</th>\n",
       "      <th>PERMIT_ISSUED</th>\n",
       "      <th>PERMIT_EXPIRES</th>\n",
       "      <th>SITE_ADDRESS</th>\n",
       "      <th>BETWEEN1</th>\n",
       "      <th>PARCEL_NO</th>\n",
       "      <th>LOT_NUMBER</th>\n",
       "      <th>SUBDIVISION</th>\n",
       "      <th>CASE_TYPE</th>\n",
       "      <th>CASE_DESCRIPTION</th>\n",
       "      <th>LEGAL_USE</th>\n",
       "      <th>ESTIMATED_COST</th>\n",
       "      <th>PARCEL_SIZE</th>\n",
       "      <th>PARCEL_CLUSTER_SECTOR</th>\n",
       "      <th>STORIES</th>\n",
       "      <th>PARCEL_FLOOR_AREA</th>\n",
       "      <th>PARCEL_GROUND_AREA</th>\n",
       "      <th>PRC_AKA_ADDRESS</th>\n",
       "      <th>BLD_PERMIT_TYPE</th>\n",
       "      <th>PERMIT_DESCRIPTION</th>\n",
       "      <th>BLD_PERMIT_DESC</th>\n",
       "      <th>BLD_TYPE_USE</th>\n",
       "      <th>RESIDENTIAL</th>\n",
       "      <th>DESCRIPTION</th>\n",
       "      <th>BLD_TYPE_CONST_COD</th>\n",
       "      <th>BLD_ZONING_DIST</th>\n",
       "      <th>BLD_USE_GROUP</th>\n",
       "      <th>BLD_BASEMENT</th>\n",
       "      <th>FEE_TYPE</th>\n",
       "      <th>CSM_CASENO</th>\n",
       "      <th>CSF_CREATED_BY</th>\n",
       "      <th>SEQ_NO</th>\n",
       "      <th>PCF_AMT_PD</th>\n",
       "      <th>PCF_AMT_DUE</th>\n",
       "      <th>PCF_UPDATED</th>\n",
       "      <th>OWNER_LAST_NAME</th>\n",
       "      <th>OWNER_FIRST_NAME</th>\n",
       "      <th>OWNER_ADDRESS1</th>\n",
       "      <th>OWNER_ADDRESS2</th>\n",
       "      <th>OWNER_CITY</th>\n",
       "      <th>OWNER_STATE</th>\n",
       "      <th>OWNER_ZIP</th>\n",
       "      <th>CONTRACTOR_LAST_NAME</th>\n",
       "      <th>CONTRACTOR_FIRST_NAME</th>\n",
       "      <th>CONTRACTOR_ADDRESS1</th>\n",
       "      <th>CONTRACTOR_ADDRESS2</th>\n",
       "      <th>CONTRACTOR_CITY</th>\n",
       "      <th>CONTRACTOR_STATE</th>\n",
       "      <th>CONTRACTOR_ZIP</th>\n",
       "      <th>CONDITION_FOR_APPROVAL</th>\n",
       "      <th>site_location</th>\n",
       "      <th>owner_location</th>\n",
       "      <th>contractor_location</th>\n",
       "      <th>geom</th>\n",
       "    </tr>\n",
       "  </thead>\n",
       "  <tbody>\n",
       "    <tr>\n",
       "      <th>0</th>\n",
       "      <td>BLD2015-03955</td>\n",
       "      <td>8/28/15</td>\n",
       "      <td>8/28/15</td>\n",
       "      <td>NaN</td>\n",
       "      <td>4331  BARHAM</td>\n",
       "      <td>BETWEEN VOIGHT AND WAVENEY</td>\n",
       "      <td>21 65525-6</td>\n",
       "      <td>S15</td>\n",
       "      <td>NaN</td>\n",
       "      <td>BLD</td>\n",
       "      <td>Building Permit</td>\n",
       "      <td>I - FAM DWLG</td>\n",
       "      <td>NaN</td>\n",
       "      <td>5184.0</td>\n",
       "      <td>3.0</td>\n",
       "      <td>NaN</td>\n",
       "      <td>0.0</td>\n",
       "      <td>829.0</td>\n",
       "      <td>NaN</td>\n",
       "      <td>Dismantle</td>\n",
       "      <td>NaN</td>\n",
       "      <td>NaN</td>\n",
       "      <td>One Family Dwelling</td>\n",
       "      <td>RESIDENTIAL</td>\n",
       "      <td>NaN</td>\n",
       "      <td>5B</td>\n",
       "      <td>R2</td>\n",
       "      <td>R3</td>\n",
       "      <td>Y</td>\n",
       "      <td>WPMT</td>\n",
       "      <td>BLD2015-03955</td>\n",
       "      <td>RSA</td>\n",
       "      <td>1</td>\n",
       "      <td>NaN</td>\n",
       "      <td>$238.00</td>\n",
       "      <td>NaN</td>\n",
       "      <td>DETROIT LAND BANK-HHF2</td>\n",
       "      <td>NaN</td>\n",
       "      <td>65 CADILLAC</td>\n",
       "      <td>NaN</td>\n",
       "      <td>DETROIT</td>\n",
       "      <td>MI</td>\n",
       "      <td>NaN</td>\n",
       "      <td>DMC CONSULTANTS INC   2015 (W)</td>\n",
       "      <td>NaN</td>\n",
       "      <td>13500 FOLEY</td>\n",
       "      <td>NaN</td>\n",
       "      <td>DETROIT</td>\n",
       "      <td>NaN</td>\n",
       "      <td>48227.0</td>\n",
       "      <td>NaN</td>\n",
       "      <td>4331 BARHAM\\nDetroit, MI\\n(42.394106, -82.9474)</td>\n",
       "      <td>65 CADILLAC\\nDETROIT, MI\\n(42.331741326000042,...</td>\n",
       "      <td>13500 FOLEY\\nDETROIT, MI\\n(42.379332, -83.177501)</td>\n",
       "      <td>NaN</td>\n",
       "    </tr>\n",
       "    <tr>\n",
       "      <th>1</th>\n",
       "      <td>BLD2015-04083</td>\n",
       "      <td>8/28/15</td>\n",
       "      <td>8/28/15</td>\n",
       "      <td>NaN</td>\n",
       "      <td>9707  BESSEMORE</td>\n",
       "      <td>BETWEEN VINTON AND GRATIOT</td>\n",
       "      <td>19 2312.</td>\n",
       "      <td>40</td>\n",
       "      <td>NaN</td>\n",
       "      <td>BLD</td>\n",
       "      <td>Building Permit</td>\n",
       "      <td>SINGLE FAMILY DWELLING</td>\n",
       "      <td>NaN</td>\n",
       "      <td>3006.0</td>\n",
       "      <td>1.0</td>\n",
       "      <td>1.0</td>\n",
       "      <td>0.0</td>\n",
       "      <td>799.0</td>\n",
       "      <td>NaN</td>\n",
       "      <td>Dismantle</td>\n",
       "      <td>NaN</td>\n",
       "      <td>NaN</td>\n",
       "      <td>One Family Dwelling</td>\n",
       "      <td>RESIDENTIAL</td>\n",
       "      <td>NaN</td>\n",
       "      <td>5B</td>\n",
       "      <td>R1</td>\n",
       "      <td>R3</td>\n",
       "      <td>NaN</td>\n",
       "      <td>WPMT</td>\n",
       "      <td>BLD2015-04083</td>\n",
       "      <td>B-RB</td>\n",
       "      <td>1</td>\n",
       "      <td>NaN</td>\n",
       "      <td>$238.00</td>\n",
       "      <td>NaN</td>\n",
       "      <td>DETROIT LAND BANK-HHF2</td>\n",
       "      <td>NaN</td>\n",
       "      <td>65 CADILLAC</td>\n",
       "      <td>NaN</td>\n",
       "      <td>DETROIT</td>\n",
       "      <td>MI</td>\n",
       "      <td>NaN</td>\n",
       "      <td>DMC CONSULTANTS INC   2015 (W)</td>\n",
       "      <td>NaN</td>\n",
       "      <td>13500 FOLEY</td>\n",
       "      <td>NaN</td>\n",
       "      <td>DETROIT</td>\n",
       "      <td>NaN</td>\n",
       "      <td>48227.0</td>\n",
       "      <td>NaN</td>\n",
       "      <td>9707 BESSEMORE\\nDetroit, MI\\n(42.395122, -83.0...</td>\n",
       "      <td>65 CADILLAC\\nDETROIT, MI\\n(42.331741326000042,...</td>\n",
       "      <td>13500 FOLEY\\nDETROIT, MI\\n(42.379332, -83.177501)</td>\n",
       "      <td>NaN</td>\n",
       "    </tr>\n",
       "    <tr>\n",
       "      <th>2</th>\n",
       "      <td>BLD2015-03976</td>\n",
       "      <td>8/28/15</td>\n",
       "      <td>8/28/15</td>\n",
       "      <td>NaN</td>\n",
       "      <td>5315  BERKSHIRE</td>\n",
       "      <td>BETWEEN SOUTHAMPTON AND FRANKFORT</td>\n",
       "      <td>21 69321.</td>\n",
       "      <td>445</td>\n",
       "      <td>NaN</td>\n",
       "      <td>BLD</td>\n",
       "      <td>Building Permit</td>\n",
       "      <td>I - FAM DWLG</td>\n",
       "      <td>NaN</td>\n",
       "      <td>4487.0</td>\n",
       "      <td>3.0</td>\n",
       "      <td>NaN</td>\n",
       "      <td>0.0</td>\n",
       "      <td>675.0</td>\n",
       "      <td>NaN</td>\n",
       "      <td>Dismantle</td>\n",
       "      <td>NaN</td>\n",
       "      <td>NaN</td>\n",
       "      <td>One Family Dwelling</td>\n",
       "      <td>RESIDENTIAL</td>\n",
       "      <td>NaN</td>\n",
       "      <td>5B</td>\n",
       "      <td>R2</td>\n",
       "      <td>R3</td>\n",
       "      <td>Y</td>\n",
       "      <td>WPMT</td>\n",
       "      <td>BLD2015-03976</td>\n",
       "      <td>RSA</td>\n",
       "      <td>1</td>\n",
       "      <td>NaN</td>\n",
       "      <td>$238.00</td>\n",
       "      <td>NaN</td>\n",
       "      <td>DETROIT LAND BANK-HHF2</td>\n",
       "      <td>NaN</td>\n",
       "      <td>65 CADILLAC</td>\n",
       "      <td>NaN</td>\n",
       "      <td>DETROIT</td>\n",
       "      <td>MI</td>\n",
       "      <td>NaN</td>\n",
       "      <td>DMC CONSULTANTS INC   2015 (W)</td>\n",
       "      <td>NaN</td>\n",
       "      <td>13500 FOLEY</td>\n",
       "      <td>NaN</td>\n",
       "      <td>DETROIT</td>\n",
       "      <td>NaN</td>\n",
       "      <td>48227.0</td>\n",
       "      <td>NaN</td>\n",
       "      <td>5315 BERKSHIRE\\nDetroit, MI\\n(42.40322, -82.94...</td>\n",
       "      <td>65 CADILLAC\\nDETROIT, MI\\n(42.331741326000042,...</td>\n",
       "      <td>13500 FOLEY\\nDETROIT, MI\\n(42.379332, -83.177501)</td>\n",
       "      <td>NaN</td>\n",
       "    </tr>\n",
       "  </tbody>\n",
       "</table>\n",
       "</div>"
      ],
      "text/plain": [
       "       PERMIT_NO PERMIT_APPLIED PERMIT_ISSUED PERMIT_EXPIRES     SITE_ADDRESS  \\\n",
       "0  BLD2015-03955        8/28/15       8/28/15            NaN     4331  BARHAM   \n",
       "1  BLD2015-04083        8/28/15       8/28/15            NaN  9707  BESSEMORE   \n",
       "2  BLD2015-03976        8/28/15       8/28/15            NaN  5315  BERKSHIRE   \n",
       "\n",
       "                            BETWEEN1   PARCEL_NO LOT_NUMBER SUBDIVISION  \\\n",
       "0         BETWEEN VOIGHT AND WAVENEY  21 65525-6        S15         NaN   \n",
       "1         BETWEEN VINTON AND GRATIOT    19 2312.         40         NaN   \n",
       "2  BETWEEN SOUTHAMPTON AND FRANKFORT   21 69321.        445         NaN   \n",
       "\n",
       "  CASE_TYPE CASE_DESCRIPTION               LEGAL_USE ESTIMATED_COST  \\\n",
       "0       BLD  Building Permit            I - FAM DWLG            NaN   \n",
       "1       BLD  Building Permit  SINGLE FAMILY DWELLING            NaN   \n",
       "2       BLD  Building Permit            I - FAM DWLG            NaN   \n",
       "\n",
       "   PARCEL_SIZE  PARCEL_CLUSTER_SECTOR  STORIES  PARCEL_FLOOR_AREA  \\\n",
       "0       5184.0                    3.0      NaN                0.0   \n",
       "1       3006.0                    1.0      1.0                0.0   \n",
       "2       4487.0                    3.0      NaN                0.0   \n",
       "\n",
       "   PARCEL_GROUND_AREA PRC_AKA_ADDRESS BLD_PERMIT_TYPE PERMIT_DESCRIPTION  \\\n",
       "0               829.0             NaN       Dismantle                NaN   \n",
       "1               799.0             NaN       Dismantle                NaN   \n",
       "2               675.0             NaN       Dismantle                NaN   \n",
       "\n",
       "  BLD_PERMIT_DESC         BLD_TYPE_USE  RESIDENTIAL DESCRIPTION  \\\n",
       "0             NaN  One Family Dwelling  RESIDENTIAL         NaN   \n",
       "1             NaN  One Family Dwelling  RESIDENTIAL         NaN   \n",
       "2             NaN  One Family Dwelling  RESIDENTIAL         NaN   \n",
       "\n",
       "  BLD_TYPE_CONST_COD BLD_ZONING_DIST BLD_USE_GROUP BLD_BASEMENT FEE_TYPE  \\\n",
       "0                 5B              R2            R3            Y     WPMT   \n",
       "1                 5B              R1            R3          NaN     WPMT   \n",
       "2                 5B              R2            R3            Y     WPMT   \n",
       "\n",
       "      CSM_CASENO CSF_CREATED_BY  SEQ_NO PCF_AMT_PD PCF_AMT_DUE PCF_UPDATED  \\\n",
       "0  BLD2015-03955            RSA       1        NaN     $238.00         NaN   \n",
       "1  BLD2015-04083           B-RB       1        NaN     $238.00         NaN   \n",
       "2  BLD2015-03976            RSA       1        NaN     $238.00         NaN   \n",
       "\n",
       "          OWNER_LAST_NAME OWNER_FIRST_NAME OWNER_ADDRESS1 OWNER_ADDRESS2  \\\n",
       "0  DETROIT LAND BANK-HHF2              NaN    65 CADILLAC            NaN   \n",
       "1  DETROIT LAND BANK-HHF2              NaN    65 CADILLAC            NaN   \n",
       "2  DETROIT LAND BANK-HHF2              NaN    65 CADILLAC            NaN   \n",
       "\n",
       "  OWNER_CITY OWNER_STATE OWNER_ZIP            CONTRACTOR_LAST_NAME  \\\n",
       "0    DETROIT          MI       NaN  DMC CONSULTANTS INC   2015 (W)   \n",
       "1    DETROIT          MI       NaN  DMC CONSULTANTS INC   2015 (W)   \n",
       "2    DETROIT          MI       NaN  DMC CONSULTANTS INC   2015 (W)   \n",
       "\n",
       "  CONTRACTOR_FIRST_NAME CONTRACTOR_ADDRESS1 CONTRACTOR_ADDRESS2  \\\n",
       "0                   NaN         13500 FOLEY                 NaN   \n",
       "1                   NaN         13500 FOLEY                 NaN   \n",
       "2                   NaN         13500 FOLEY                 NaN   \n",
       "\n",
       "  CONTRACTOR_CITY CONTRACTOR_STATE  CONTRACTOR_ZIP CONDITION_FOR_APPROVAL  \\\n",
       "0         DETROIT              NaN         48227.0                    NaN   \n",
       "1         DETROIT              NaN         48227.0                    NaN   \n",
       "2         DETROIT              NaN         48227.0                    NaN   \n",
       "\n",
       "                                       site_location  \\\n",
       "0    4331 BARHAM\\nDetroit, MI\\n(42.394106, -82.9474)   \n",
       "1  9707 BESSEMORE\\nDetroit, MI\\n(42.395122, -83.0...   \n",
       "2  5315 BERKSHIRE\\nDetroit, MI\\n(42.40322, -82.94...   \n",
       "\n",
       "                                      owner_location  \\\n",
       "0  65 CADILLAC\\nDETROIT, MI\\n(42.331741326000042,...   \n",
       "1  65 CADILLAC\\nDETROIT, MI\\n(42.331741326000042,...   \n",
       "2  65 CADILLAC\\nDETROIT, MI\\n(42.331741326000042,...   \n",
       "\n",
       "                                 contractor_location geom  \n",
       "0  13500 FOLEY\\nDETROIT, MI\\n(42.379332, -83.177501)  NaN  \n",
       "1  13500 FOLEY\\nDETROIT, MI\\n(42.379332, -83.177501)  NaN  \n",
       "2  13500 FOLEY\\nDETROIT, MI\\n(42.379332, -83.177501)  NaN  "
      ]
     },
     "execution_count": 3,
     "metadata": {},
     "output_type": "execute_result"
    }
   ],
   "source": [
    "\"\"\"\n",
    "Preview the loaded dataset.\n",
    "\"\"\"\n",
    "permits.head(3)"
   ]
  },
  {
   "cell_type": "code",
   "execution_count": 4,
   "metadata": {
    "collapsed": true
   },
   "outputs": [],
   "source": [
    "\"\"\"\n",
    "@param: start - acts as starting index into the dataset\n",
    "@param: end - acts as ending index into the dataset\n",
    "\"\"\"\n",
    "start, end = 0, len(permits)"
   ]
  },
  {
   "cell_type": "code",
   "execution_count": 5,
   "metadata": {
    "collapsed": true
   },
   "outputs": [],
   "source": [
    "permits['incident_id'] = range(start, end)"
   ]
  },
  {
   "cell_type": "code",
   "execution_count": 6,
   "metadata": {},
   "outputs": [
    {
     "data": {
      "text/html": [
       "<div>\n",
       "<style>\n",
       "    .dataframe thead tr:only-child th {\n",
       "        text-align: right;\n",
       "    }\n",
       "\n",
       "    .dataframe thead th {\n",
       "        text-align: left;\n",
       "    }\n",
       "\n",
       "    .dataframe tbody tr th {\n",
       "        vertical-align: top;\n",
       "    }\n",
       "</style>\n",
       "<table border=\"1\" class=\"dataframe\">\n",
       "  <thead>\n",
       "    <tr style=\"text-align: right;\">\n",
       "      <th></th>\n",
       "      <th>PERMIT_NO</th>\n",
       "      <th>PERMIT_APPLIED</th>\n",
       "      <th>PERMIT_ISSUED</th>\n",
       "      <th>PERMIT_EXPIRES</th>\n",
       "      <th>SITE_ADDRESS</th>\n",
       "      <th>BETWEEN1</th>\n",
       "      <th>PARCEL_NO</th>\n",
       "      <th>LOT_NUMBER</th>\n",
       "      <th>SUBDIVISION</th>\n",
       "      <th>CASE_TYPE</th>\n",
       "      <th>CASE_DESCRIPTION</th>\n",
       "      <th>LEGAL_USE</th>\n",
       "      <th>ESTIMATED_COST</th>\n",
       "      <th>PARCEL_SIZE</th>\n",
       "      <th>PARCEL_CLUSTER_SECTOR</th>\n",
       "      <th>STORIES</th>\n",
       "      <th>PARCEL_FLOOR_AREA</th>\n",
       "      <th>PARCEL_GROUND_AREA</th>\n",
       "      <th>PRC_AKA_ADDRESS</th>\n",
       "      <th>BLD_PERMIT_TYPE</th>\n",
       "      <th>PERMIT_DESCRIPTION</th>\n",
       "      <th>BLD_PERMIT_DESC</th>\n",
       "      <th>BLD_TYPE_USE</th>\n",
       "      <th>RESIDENTIAL</th>\n",
       "      <th>DESCRIPTION</th>\n",
       "      <th>BLD_TYPE_CONST_COD</th>\n",
       "      <th>BLD_ZONING_DIST</th>\n",
       "      <th>BLD_USE_GROUP</th>\n",
       "      <th>BLD_BASEMENT</th>\n",
       "      <th>FEE_TYPE</th>\n",
       "      <th>CSM_CASENO</th>\n",
       "      <th>CSF_CREATED_BY</th>\n",
       "      <th>SEQ_NO</th>\n",
       "      <th>PCF_AMT_PD</th>\n",
       "      <th>PCF_AMT_DUE</th>\n",
       "      <th>PCF_UPDATED</th>\n",
       "      <th>OWNER_LAST_NAME</th>\n",
       "      <th>OWNER_FIRST_NAME</th>\n",
       "      <th>OWNER_ADDRESS1</th>\n",
       "      <th>OWNER_ADDRESS2</th>\n",
       "      <th>OWNER_CITY</th>\n",
       "      <th>OWNER_STATE</th>\n",
       "      <th>OWNER_ZIP</th>\n",
       "      <th>CONTRACTOR_LAST_NAME</th>\n",
       "      <th>CONTRACTOR_FIRST_NAME</th>\n",
       "      <th>CONTRACTOR_ADDRESS1</th>\n",
       "      <th>CONTRACTOR_ADDRESS2</th>\n",
       "      <th>CONTRACTOR_CITY</th>\n",
       "      <th>CONTRACTOR_STATE</th>\n",
       "      <th>CONTRACTOR_ZIP</th>\n",
       "      <th>CONDITION_FOR_APPROVAL</th>\n",
       "      <th>site_location</th>\n",
       "      <th>owner_location</th>\n",
       "      <th>contractor_location</th>\n",
       "      <th>geom</th>\n",
       "      <th>incident_id</th>\n",
       "    </tr>\n",
       "  </thead>\n",
       "  <tbody>\n",
       "    <tr>\n",
       "      <th>0</th>\n",
       "      <td>BLD2015-03955</td>\n",
       "      <td>8/28/15</td>\n",
       "      <td>8/28/15</td>\n",
       "      <td>NaN</td>\n",
       "      <td>4331  BARHAM</td>\n",
       "      <td>BETWEEN VOIGHT AND WAVENEY</td>\n",
       "      <td>21 65525-6</td>\n",
       "      <td>S15</td>\n",
       "      <td>NaN</td>\n",
       "      <td>BLD</td>\n",
       "      <td>Building Permit</td>\n",
       "      <td>I - FAM DWLG</td>\n",
       "      <td>NaN</td>\n",
       "      <td>5184.0</td>\n",
       "      <td>3.0</td>\n",
       "      <td>NaN</td>\n",
       "      <td>0.0</td>\n",
       "      <td>829.0</td>\n",
       "      <td>NaN</td>\n",
       "      <td>Dismantle</td>\n",
       "      <td>NaN</td>\n",
       "      <td>NaN</td>\n",
       "      <td>One Family Dwelling</td>\n",
       "      <td>RESIDENTIAL</td>\n",
       "      <td>NaN</td>\n",
       "      <td>5B</td>\n",
       "      <td>R2</td>\n",
       "      <td>R3</td>\n",
       "      <td>Y</td>\n",
       "      <td>WPMT</td>\n",
       "      <td>BLD2015-03955</td>\n",
       "      <td>RSA</td>\n",
       "      <td>1</td>\n",
       "      <td>NaN</td>\n",
       "      <td>$238.00</td>\n",
       "      <td>NaN</td>\n",
       "      <td>DETROIT LAND BANK-HHF2</td>\n",
       "      <td>NaN</td>\n",
       "      <td>65 CADILLAC</td>\n",
       "      <td>NaN</td>\n",
       "      <td>DETROIT</td>\n",
       "      <td>MI</td>\n",
       "      <td>NaN</td>\n",
       "      <td>DMC CONSULTANTS INC   2015 (W)</td>\n",
       "      <td>NaN</td>\n",
       "      <td>13500 FOLEY</td>\n",
       "      <td>NaN</td>\n",
       "      <td>DETROIT</td>\n",
       "      <td>NaN</td>\n",
       "      <td>48227.0</td>\n",
       "      <td>NaN</td>\n",
       "      <td>4331 BARHAM\\nDetroit, MI\\n(42.394106, -82.9474)</td>\n",
       "      <td>65 CADILLAC\\nDETROIT, MI\\n(42.331741326000042,...</td>\n",
       "      <td>13500 FOLEY\\nDETROIT, MI\\n(42.379332, -83.177501)</td>\n",
       "      <td>NaN</td>\n",
       "      <td>0</td>\n",
       "    </tr>\n",
       "    <tr>\n",
       "      <th>1</th>\n",
       "      <td>BLD2015-04083</td>\n",
       "      <td>8/28/15</td>\n",
       "      <td>8/28/15</td>\n",
       "      <td>NaN</td>\n",
       "      <td>9707  BESSEMORE</td>\n",
       "      <td>BETWEEN VINTON AND GRATIOT</td>\n",
       "      <td>19 2312.</td>\n",
       "      <td>40</td>\n",
       "      <td>NaN</td>\n",
       "      <td>BLD</td>\n",
       "      <td>Building Permit</td>\n",
       "      <td>SINGLE FAMILY DWELLING</td>\n",
       "      <td>NaN</td>\n",
       "      <td>3006.0</td>\n",
       "      <td>1.0</td>\n",
       "      <td>1.0</td>\n",
       "      <td>0.0</td>\n",
       "      <td>799.0</td>\n",
       "      <td>NaN</td>\n",
       "      <td>Dismantle</td>\n",
       "      <td>NaN</td>\n",
       "      <td>NaN</td>\n",
       "      <td>One Family Dwelling</td>\n",
       "      <td>RESIDENTIAL</td>\n",
       "      <td>NaN</td>\n",
       "      <td>5B</td>\n",
       "      <td>R1</td>\n",
       "      <td>R3</td>\n",
       "      <td>NaN</td>\n",
       "      <td>WPMT</td>\n",
       "      <td>BLD2015-04083</td>\n",
       "      <td>B-RB</td>\n",
       "      <td>1</td>\n",
       "      <td>NaN</td>\n",
       "      <td>$238.00</td>\n",
       "      <td>NaN</td>\n",
       "      <td>DETROIT LAND BANK-HHF2</td>\n",
       "      <td>NaN</td>\n",
       "      <td>65 CADILLAC</td>\n",
       "      <td>NaN</td>\n",
       "      <td>DETROIT</td>\n",
       "      <td>MI</td>\n",
       "      <td>NaN</td>\n",
       "      <td>DMC CONSULTANTS INC   2015 (W)</td>\n",
       "      <td>NaN</td>\n",
       "      <td>13500 FOLEY</td>\n",
       "      <td>NaN</td>\n",
       "      <td>DETROIT</td>\n",
       "      <td>NaN</td>\n",
       "      <td>48227.0</td>\n",
       "      <td>NaN</td>\n",
       "      <td>9707 BESSEMORE\\nDetroit, MI\\n(42.395122, -83.0...</td>\n",
       "      <td>65 CADILLAC\\nDETROIT, MI\\n(42.331741326000042,...</td>\n",
       "      <td>13500 FOLEY\\nDETROIT, MI\\n(42.379332, -83.177501)</td>\n",
       "      <td>NaN</td>\n",
       "      <td>1</td>\n",
       "    </tr>\n",
       "    <tr>\n",
       "      <th>2</th>\n",
       "      <td>BLD2015-03976</td>\n",
       "      <td>8/28/15</td>\n",
       "      <td>8/28/15</td>\n",
       "      <td>NaN</td>\n",
       "      <td>5315  BERKSHIRE</td>\n",
       "      <td>BETWEEN SOUTHAMPTON AND FRANKFORT</td>\n",
       "      <td>21 69321.</td>\n",
       "      <td>445</td>\n",
       "      <td>NaN</td>\n",
       "      <td>BLD</td>\n",
       "      <td>Building Permit</td>\n",
       "      <td>I - FAM DWLG</td>\n",
       "      <td>NaN</td>\n",
       "      <td>4487.0</td>\n",
       "      <td>3.0</td>\n",
       "      <td>NaN</td>\n",
       "      <td>0.0</td>\n",
       "      <td>675.0</td>\n",
       "      <td>NaN</td>\n",
       "      <td>Dismantle</td>\n",
       "      <td>NaN</td>\n",
       "      <td>NaN</td>\n",
       "      <td>One Family Dwelling</td>\n",
       "      <td>RESIDENTIAL</td>\n",
       "      <td>NaN</td>\n",
       "      <td>5B</td>\n",
       "      <td>R2</td>\n",
       "      <td>R3</td>\n",
       "      <td>Y</td>\n",
       "      <td>WPMT</td>\n",
       "      <td>BLD2015-03976</td>\n",
       "      <td>RSA</td>\n",
       "      <td>1</td>\n",
       "      <td>NaN</td>\n",
       "      <td>$238.00</td>\n",
       "      <td>NaN</td>\n",
       "      <td>DETROIT LAND BANK-HHF2</td>\n",
       "      <td>NaN</td>\n",
       "      <td>65 CADILLAC</td>\n",
       "      <td>NaN</td>\n",
       "      <td>DETROIT</td>\n",
       "      <td>MI</td>\n",
       "      <td>NaN</td>\n",
       "      <td>DMC CONSULTANTS INC   2015 (W)</td>\n",
       "      <td>NaN</td>\n",
       "      <td>13500 FOLEY</td>\n",
       "      <td>NaN</td>\n",
       "      <td>DETROIT</td>\n",
       "      <td>NaN</td>\n",
       "      <td>48227.0</td>\n",
       "      <td>NaN</td>\n",
       "      <td>5315 BERKSHIRE\\nDetroit, MI\\n(42.40322, -82.94...</td>\n",
       "      <td>65 CADILLAC\\nDETROIT, MI\\n(42.331741326000042,...</td>\n",
       "      <td>13500 FOLEY\\nDETROIT, MI\\n(42.379332, -83.177501)</td>\n",
       "      <td>NaN</td>\n",
       "      <td>2</td>\n",
       "    </tr>\n",
       "  </tbody>\n",
       "</table>\n",
       "</div>"
      ],
      "text/plain": [
       "       PERMIT_NO PERMIT_APPLIED PERMIT_ISSUED PERMIT_EXPIRES     SITE_ADDRESS  \\\n",
       "0  BLD2015-03955        8/28/15       8/28/15            NaN     4331  BARHAM   \n",
       "1  BLD2015-04083        8/28/15       8/28/15            NaN  9707  BESSEMORE   \n",
       "2  BLD2015-03976        8/28/15       8/28/15            NaN  5315  BERKSHIRE   \n",
       "\n",
       "                            BETWEEN1   PARCEL_NO LOT_NUMBER SUBDIVISION  \\\n",
       "0         BETWEEN VOIGHT AND WAVENEY  21 65525-6        S15         NaN   \n",
       "1         BETWEEN VINTON AND GRATIOT    19 2312.         40         NaN   \n",
       "2  BETWEEN SOUTHAMPTON AND FRANKFORT   21 69321.        445         NaN   \n",
       "\n",
       "  CASE_TYPE CASE_DESCRIPTION               LEGAL_USE ESTIMATED_COST  \\\n",
       "0       BLD  Building Permit            I - FAM DWLG            NaN   \n",
       "1       BLD  Building Permit  SINGLE FAMILY DWELLING            NaN   \n",
       "2       BLD  Building Permit            I - FAM DWLG            NaN   \n",
       "\n",
       "   PARCEL_SIZE  PARCEL_CLUSTER_SECTOR  STORIES  PARCEL_FLOOR_AREA  \\\n",
       "0       5184.0                    3.0      NaN                0.0   \n",
       "1       3006.0                    1.0      1.0                0.0   \n",
       "2       4487.0                    3.0      NaN                0.0   \n",
       "\n",
       "   PARCEL_GROUND_AREA PRC_AKA_ADDRESS BLD_PERMIT_TYPE PERMIT_DESCRIPTION  \\\n",
       "0               829.0             NaN       Dismantle                NaN   \n",
       "1               799.0             NaN       Dismantle                NaN   \n",
       "2               675.0             NaN       Dismantle                NaN   \n",
       "\n",
       "  BLD_PERMIT_DESC         BLD_TYPE_USE  RESIDENTIAL DESCRIPTION  \\\n",
       "0             NaN  One Family Dwelling  RESIDENTIAL         NaN   \n",
       "1             NaN  One Family Dwelling  RESIDENTIAL         NaN   \n",
       "2             NaN  One Family Dwelling  RESIDENTIAL         NaN   \n",
       "\n",
       "  BLD_TYPE_CONST_COD BLD_ZONING_DIST BLD_USE_GROUP BLD_BASEMENT FEE_TYPE  \\\n",
       "0                 5B              R2            R3            Y     WPMT   \n",
       "1                 5B              R1            R3          NaN     WPMT   \n",
       "2                 5B              R2            R3            Y     WPMT   \n",
       "\n",
       "      CSM_CASENO CSF_CREATED_BY  SEQ_NO PCF_AMT_PD PCF_AMT_DUE PCF_UPDATED  \\\n",
       "0  BLD2015-03955            RSA       1        NaN     $238.00         NaN   \n",
       "1  BLD2015-04083           B-RB       1        NaN     $238.00         NaN   \n",
       "2  BLD2015-03976            RSA       1        NaN     $238.00         NaN   \n",
       "\n",
       "          OWNER_LAST_NAME OWNER_FIRST_NAME OWNER_ADDRESS1 OWNER_ADDRESS2  \\\n",
       "0  DETROIT LAND BANK-HHF2              NaN    65 CADILLAC            NaN   \n",
       "1  DETROIT LAND BANK-HHF2              NaN    65 CADILLAC            NaN   \n",
       "2  DETROIT LAND BANK-HHF2              NaN    65 CADILLAC            NaN   \n",
       "\n",
       "  OWNER_CITY OWNER_STATE OWNER_ZIP            CONTRACTOR_LAST_NAME  \\\n",
       "0    DETROIT          MI       NaN  DMC CONSULTANTS INC   2015 (W)   \n",
       "1    DETROIT          MI       NaN  DMC CONSULTANTS INC   2015 (W)   \n",
       "2    DETROIT          MI       NaN  DMC CONSULTANTS INC   2015 (W)   \n",
       "\n",
       "  CONTRACTOR_FIRST_NAME CONTRACTOR_ADDRESS1 CONTRACTOR_ADDRESS2  \\\n",
       "0                   NaN         13500 FOLEY                 NaN   \n",
       "1                   NaN         13500 FOLEY                 NaN   \n",
       "2                   NaN         13500 FOLEY                 NaN   \n",
       "\n",
       "  CONTRACTOR_CITY CONTRACTOR_STATE  CONTRACTOR_ZIP CONDITION_FOR_APPROVAL  \\\n",
       "0         DETROIT              NaN         48227.0                    NaN   \n",
       "1         DETROIT              NaN         48227.0                    NaN   \n",
       "2         DETROIT              NaN         48227.0                    NaN   \n",
       "\n",
       "                                       site_location  \\\n",
       "0    4331 BARHAM\\nDetroit, MI\\n(42.394106, -82.9474)   \n",
       "1  9707 BESSEMORE\\nDetroit, MI\\n(42.395122, -83.0...   \n",
       "2  5315 BERKSHIRE\\nDetroit, MI\\n(42.40322, -82.94...   \n",
       "\n",
       "                                      owner_location  \\\n",
       "0  65 CADILLAC\\nDETROIT, MI\\n(42.331741326000042,...   \n",
       "1  65 CADILLAC\\nDETROIT, MI\\n(42.331741326000042,...   \n",
       "2  65 CADILLAC\\nDETROIT, MI\\n(42.331741326000042,...   \n",
       "\n",
       "                                 contractor_location geom  incident_id  \n",
       "0  13500 FOLEY\\nDETROIT, MI\\n(42.379332, -83.177501)  NaN            0  \n",
       "1  13500 FOLEY\\nDETROIT, MI\\n(42.379332, -83.177501)  NaN            1  \n",
       "2  13500 FOLEY\\nDETROIT, MI\\n(42.379332, -83.177501)  NaN            2  "
      ]
     },
     "execution_count": 6,
     "metadata": {},
     "output_type": "execute_result"
    }
   ],
   "source": [
    "\"\"\"\n",
    "View the updated column ``incident_id`` which acts as a serial number for the dataset\n",
    "\"\"\"\n",
    "permits.head(3)"
   ]
  },
  {
   "cell_type": "markdown",
   "metadata": {},
   "source": [
    "### Read Violations Data for all the buildings in consideration"
   ]
  },
  {
   "cell_type": "code",
   "execution_count": 7,
   "metadata": {},
   "outputs": [
    {
     "name": "stderr",
     "output_type": "stream",
     "text": [
      "/home/madhur/anaconda3/lib/python3.6/site-packages/IPython/core/interactiveshell.py:2698: DtypeWarning: Columns (6,10,11,12) have mixed types. Specify dtype option on import or set low_memory=False.\n",
      "  interactivity=interactivity, compiler=compiler, result=result)\n"
     ]
    }
   ],
   "source": [
    "violations = pd.read_csv('detroit-blight-violations.csv')"
   ]
  },
  {
   "cell_type": "code",
   "execution_count": 8,
   "metadata": {},
   "outputs": [
    {
     "data": {
      "text/html": [
       "<div>\n",
       "<style>\n",
       "    .dataframe thead tr:only-child th {\n",
       "        text-align: right;\n",
       "    }\n",
       "\n",
       "    .dataframe thead th {\n",
       "        text-align: left;\n",
       "    }\n",
       "\n",
       "    .dataframe tbody tr th {\n",
       "        vertical-align: top;\n",
       "    }\n",
       "</style>\n",
       "<table border=\"1\" class=\"dataframe\">\n",
       "  <thead>\n",
       "    <tr style=\"text-align: right;\">\n",
       "      <th></th>\n",
       "      <th>TicketID</th>\n",
       "      <th>TicketNumber</th>\n",
       "      <th>AgencyName</th>\n",
       "      <th>ViolName</th>\n",
       "      <th>ViolationStreetNumber</th>\n",
       "      <th>ViolationStreetName</th>\n",
       "      <th>MailingStreetNumber</th>\n",
       "      <th>MailingStreetName</th>\n",
       "      <th>MailingCity</th>\n",
       "      <th>MailingState</th>\n",
       "      <th>MailingZipCode</th>\n",
       "      <th>NonUsAddressCode</th>\n",
       "      <th>Country</th>\n",
       "      <th>TicketIssuedDT</th>\n",
       "      <th>TicketIssuedTime</th>\n",
       "      <th>HearingDT</th>\n",
       "      <th>CourtTime</th>\n",
       "      <th>ViolationCode</th>\n",
       "      <th>ViolDescription</th>\n",
       "      <th>Disposition</th>\n",
       "      <th>FineAmt</th>\n",
       "      <th>AdminFee</th>\n",
       "      <th>LateFee</th>\n",
       "      <th>StateFee</th>\n",
       "      <th>CleanUpCost</th>\n",
       "      <th>JudgmentAmt</th>\n",
       "      <th>PaymentStatus</th>\n",
       "      <th>Void</th>\n",
       "      <th>ViolationCategory</th>\n",
       "      <th>ViolationAddress</th>\n",
       "      <th>MailingAddress</th>\n",
       "    </tr>\n",
       "  </thead>\n",
       "  <tbody>\n",
       "    <tr>\n",
       "      <th>0</th>\n",
       "      <td>26288</td>\n",
       "      <td>05000001DAH</td>\n",
       "      <td>Department of Public Works</td>\n",
       "      <td>Group, LLC, Grand Holding</td>\n",
       "      <td>2566</td>\n",
       "      <td>GRAND BLVD</td>\n",
       "      <td>743</td>\n",
       "      <td>Beaubien, Ste. 201</td>\n",
       "      <td>Detroit</td>\n",
       "      <td>MI</td>\n",
       "      <td>48226</td>\n",
       "      <td>NaN</td>\n",
       "      <td>NaN</td>\n",
       "      <td>01/01/38440 12:00:00 AM</td>\n",
       "      <td>12:00:00</td>\n",
       "      <td>01/01/38474 12:00:00 AM</td>\n",
       "      <td>9:00AM</td>\n",
       "      <td>22-2-20</td>\n",
       "      <td>Burning solid waste  in open fires</td>\n",
       "      <td>Responsible By Determination</td>\n",
       "      <td>$1500.00</td>\n",
       "      <td>$20.00</td>\n",
       "      <td>$150.00</td>\n",
       "      <td>$10.00</td>\n",
       "      <td>$0.00</td>\n",
       "      <td>$1680.00</td>\n",
       "      <td>PAID IN FULL</td>\n",
       "      <td>0.0</td>\n",
       "      <td>0</td>\n",
       "      <td>2566 GRAND BLVD\\nDetroit, MI\\n(42.363182370000...</td>\n",
       "      <td>743 Beaubien\\nDetroit, MI 48226\\n(42.333730630...</td>\n",
       "    </tr>\n",
       "    <tr>\n",
       "      <th>1</th>\n",
       "      <td>19800</td>\n",
       "      <td>05000025DAH</td>\n",
       "      <td>Department of Public Works</td>\n",
       "      <td>JACKSON, RAECHELLE</td>\n",
       "      <td>19014</td>\n",
       "      <td>ASHTON</td>\n",
       "      <td>20501</td>\n",
       "      <td>HEYDEN</td>\n",
       "      <td>DETROIT</td>\n",
       "      <td>MI</td>\n",
       "      <td>48219</td>\n",
       "      <td>NaN</td>\n",
       "      <td>NaN</td>\n",
       "      <td>01/01/38383 12:00:00 AM</td>\n",
       "      <td>10:15:00</td>\n",
       "      <td>01/01/38425 12:00:00 AM</td>\n",
       "      <td>1:30PM</td>\n",
       "      <td>22-2-22</td>\n",
       "      <td>Bulk solid waste deposited more than 24 hours ...</td>\n",
       "      <td>Not responsible By Determination</td>\n",
       "      <td>$100.00</td>\n",
       "      <td>$20.00</td>\n",
       "      <td>$10.00</td>\n",
       "      <td>$10.00</td>\n",
       "      <td>$0.00</td>\n",
       "      <td>$140.00</td>\n",
       "      <td>NO PAYMENT APPLIED</td>\n",
       "      <td>0.0</td>\n",
       "      <td>0</td>\n",
       "      <td>19014 ASHTON\\nDetroit, MI\\n(42.429390762000025...</td>\n",
       "      <td>20501 HEYDEN\\nDETROIT, MI 48219\\n(42.442177633...</td>\n",
       "    </tr>\n",
       "    <tr>\n",
       "      <th>2</th>\n",
       "      <td>19804</td>\n",
       "      <td>05000026DAH</td>\n",
       "      <td>Department of Public Works</td>\n",
       "      <td>TALTON, CAROL ANN</td>\n",
       "      <td>18735</td>\n",
       "      <td>STAHELIN</td>\n",
       "      <td>18735</td>\n",
       "      <td>STAHELI N</td>\n",
       "      <td>DETROIT</td>\n",
       "      <td>MI</td>\n",
       "      <td>48219</td>\n",
       "      <td>NaN</td>\n",
       "      <td>NaN</td>\n",
       "      <td>01/01/38383 12:00:00 AM</td>\n",
       "      <td>10:35:00</td>\n",
       "      <td>01/01/38425 12:00:00 AM</td>\n",
       "      <td>1:30PM</td>\n",
       "      <td>22-2-22</td>\n",
       "      <td>Bulk solid waste deposited more than 24 hours ...</td>\n",
       "      <td>Responsible By Determination</td>\n",
       "      <td>$100.00</td>\n",
       "      <td>$20.00</td>\n",
       "      <td>$10.00</td>\n",
       "      <td>$10.00</td>\n",
       "      <td>$0.00</td>\n",
       "      <td>$140.00</td>\n",
       "      <td>PAID IN FULL</td>\n",
       "      <td>0.0</td>\n",
       "      <td>0</td>\n",
       "      <td>18735 STAHELIN\\nDetroit, MI\\n(42.4287074590000...</td>\n",
       "      <td>18735 STAHELI N\\nDETROIT, MI 48219\\n(42.428707...</td>\n",
       "    </tr>\n",
       "  </tbody>\n",
       "</table>\n",
       "</div>"
      ],
      "text/plain": [
       "   TicketID TicketNumber                  AgencyName  \\\n",
       "0     26288  05000001DAH  Department of Public Works   \n",
       "1     19800  05000025DAH  Department of Public Works   \n",
       "2     19804  05000026DAH  Department of Public Works   \n",
       "\n",
       "                    ViolName  ViolationStreetNumber ViolationStreetName  \\\n",
       "0  Group, LLC, Grand Holding                   2566    GRAND BLVD         \n",
       "1        JACKSON, RAECHELLE                   19014    ASHTON             \n",
       "2          TALTON, CAROL ANN                  18735    STAHELIN           \n",
       "\n",
       "  MailingStreetNumber   MailingStreetName MailingCity MailingState  \\\n",
       "0                 743  Beaubien, Ste. 201     Detroit           MI   \n",
       "1               20501              HEYDEN     DETROIT           MI   \n",
       "2               18735           STAHELI N     DETROIT           MI   \n",
       "\n",
       "  MailingZipCode NonUsAddressCode Country           TicketIssuedDT  \\\n",
       "0          48226              NaN     NaN  01/01/38440 12:00:00 AM   \n",
       "1          48219              NaN     NaN  01/01/38383 12:00:00 AM   \n",
       "2          48219              NaN     NaN  01/01/38383 12:00:00 AM   \n",
       "\n",
       "  TicketIssuedTime                HearingDT CourtTime ViolationCode  \\\n",
       "0         12:00:00  01/01/38474 12:00:00 AM    9:00AM       22-2-20   \n",
       "1         10:15:00  01/01/38425 12:00:00 AM    1:30PM       22-2-22   \n",
       "2         10:35:00  01/01/38425 12:00:00 AM    1:30PM       22-2-22   \n",
       "\n",
       "                                     ViolDescription  \\\n",
       "0                 Burning solid waste  in open fires   \n",
       "1  Bulk solid waste deposited more than 24 hours ...   \n",
       "2  Bulk solid waste deposited more than 24 hours ...   \n",
       "\n",
       "                        Disposition   FineAmt AdminFee  LateFee StateFee  \\\n",
       "0      Responsible By Determination  $1500.00   $20.00  $150.00   $10.00   \n",
       "1  Not responsible By Determination   $100.00   $20.00   $10.00   $10.00   \n",
       "2      Responsible By Determination   $100.00   $20.00   $10.00   $10.00   \n",
       "\n",
       "  CleanUpCost JudgmentAmt       PaymentStatus  Void  ViolationCategory  \\\n",
       "0       $0.00    $1680.00        PAID IN FULL   0.0                  0   \n",
       "1       $0.00     $140.00  NO PAYMENT APPLIED   0.0                  0   \n",
       "2       $0.00     $140.00        PAID IN FULL   0.0                  0   \n",
       "\n",
       "                                    ViolationAddress  \\\n",
       "0  2566 GRAND BLVD\\nDetroit, MI\\n(42.363182370000...   \n",
       "1  19014 ASHTON\\nDetroit, MI\\n(42.429390762000025...   \n",
       "2  18735 STAHELIN\\nDetroit, MI\\n(42.4287074590000...   \n",
       "\n",
       "                                      MailingAddress  \n",
       "0  743 Beaubien\\nDetroit, MI 48226\\n(42.333730630...  \n",
       "1  20501 HEYDEN\\nDETROIT, MI 48219\\n(42.442177633...  \n",
       "2  18735 STAHELI N\\nDETROIT, MI 48219\\n(42.428707...  "
      ]
     },
     "execution_count": 8,
     "metadata": {},
     "output_type": "execute_result"
    }
   ],
   "source": [
    "violations.head(3)"
   ]
  },
  {
   "cell_type": "code",
   "execution_count": 9,
   "metadata": {
    "collapsed": true
   },
   "outputs": [],
   "source": [
    "\"\"\"\n",
    "The ``start`` and ``end`` are used to continue\n",
    "indexing from the previous dataset of Permits.\n",
    "\n",
    "This is done as both Permits and Violations\n",
    "are considered as a separate incident for blights.\n",
    "\"\"\"\n",
    "start += len(permits)\n",
    "end += len(violations)"
   ]
  },
  {
   "cell_type": "code",
   "execution_count": 10,
   "metadata": {},
   "outputs": [],
   "source": [
    "violations['incident_id'] = range(start, end)"
   ]
  },
  {
   "cell_type": "markdown",
   "metadata": {},
   "source": [
    "### Read Crime Data near all the buildings in consideration"
   ]
  },
  {
   "cell_type": "code",
   "execution_count": 11,
   "metadata": {},
   "outputs": [
    {
     "name": "stderr",
     "output_type": "stream",
     "text": [
      "/home/madhur/anaconda3/lib/python3.6/site-packages/IPython/core/interactiveshell.py:2698: DtypeWarning: Columns (2) have mixed types. Specify dtype option on import or set low_memory=False.\n",
      "  interactivity=interactivity, compiler=compiler, result=result)\n"
     ]
    }
   ],
   "source": [
    "crimes = pd.read_csv('detroit-crime.csv')"
   ]
  },
  {
   "cell_type": "code",
   "execution_count": 12,
   "metadata": {
    "collapsed": true
   },
   "outputs": [],
   "source": [
    "\"\"\"\n",
    "The ``start`` and ``end`` are used to continue\n",
    "indexing from the previous dataset of Permits and Violations.\n",
    "\n",
    "This is done as all 3 Permits and Violations and Crimes\n",
    "are considered as a separate incident for blights.\n",
    "\"\"\"\n",
    "start += len(violations)\n",
    "end += len(crimes)"
   ]
  },
  {
   "cell_type": "code",
   "execution_count": 13,
   "metadata": {
    "collapsed": true
   },
   "outputs": [],
   "source": [
    "crimes['incident_id'] = range(start, end)"
   ]
  },
  {
   "cell_type": "markdown",
   "metadata": {},
   "source": [
    "### Read 311 Distress Calls Data near all the buildings in consideration"
   ]
  },
  {
   "cell_type": "code",
   "execution_count": 14,
   "metadata": {
    "collapsed": true
   },
   "outputs": [],
   "source": [
    "calls = pd.read_csv('detroit-311.csv')"
   ]
  },
  {
   "cell_type": "code",
   "execution_count": 15,
   "metadata": {
    "collapsed": true
   },
   "outputs": [],
   "source": [
    "\"\"\"\n",
    "The ``start`` and ``end`` are used to continue\n",
    "indexing from the previous dataset of Permits, Violations & Crimes\n",
    "\n",
    "This is done as all 4 Permits, Violations, Crimes\n",
    "& distress calls are considered as a separate \n",
    "incident for blights.\n",
    "\"\"\"\n",
    "start += len(crimes)\n",
    "end += len(calls)"
   ]
  },
  {
   "cell_type": "code",
   "execution_count": 16,
   "metadata": {
    "collapsed": true
   },
   "outputs": [],
   "source": [
    "calls['incident_id'] = range(start, end)"
   ]
  },
  {
   "cell_type": "markdown",
   "metadata": {},
   "source": [
    "### Save these updated CSVs with common ``incident_ids``"
   ]
  },
  {
   "cell_type": "code",
   "execution_count": 17,
   "metadata": {
    "collapsed": true
   },
   "outputs": [],
   "source": [
    "permits.to_csv('../data/permits.csv', index=False)\n",
    "violations.to_csv('../data/violations.csv', index=False)\n",
    "crimes.to_csv('../data/crimes.csv', index=False)\n",
    "calls.to_csv('../data/calls.csv', index=False)"
   ]
  },
  {
   "cell_type": "markdown",
   "metadata": {},
   "source": [
    "### Clean Up and gather only important columns"
   ]
  },
  {
   "cell_type": "markdown",
   "metadata": {},
   "source": [
    "#### 1) Violations"
   ]
  },
  {
   "cell_type": "code",
   "execution_count": 18,
   "metadata": {},
   "outputs": [
    {
     "name": "stderr",
     "output_type": "stream",
     "text": [
      "/home/madhur/anaconda3/lib/python3.6/site-packages/IPython/core/interactiveshell.py:2698: DtypeWarning: Columns (6,10,11,12) have mixed types. Specify dtype option on import or set low_memory=False.\n",
      "  interactivity=interactivity, compiler=compiler, result=result)\n"
     ]
    }
   ],
   "source": [
    "violations = pd.read_csv('../data/violations.csv')"
   ]
  },
  {
   "cell_type": "code",
   "execution_count": 19,
   "metadata": {
    "collapsed": true
   },
   "outputs": [],
   "source": [
    "\"\"\"\n",
    "Get Address Latitudes and Longitudes\n",
    "\"\"\"\n",
    "violations['ViolationAddressCoordinates'] = violations['ViolationAddress'].apply(lambda x: x.split('\\n')[-1])\n",
    "violations['ViolationAddressLatitude'] = violations['ViolationAddressCoordinates'].apply(lambda x: x.split(',')[0][1:].strip()).astype(np.float)\n",
    "violations['ViolationAddressLongitude'] = violations['ViolationAddressCoordinates'].apply(lambda x: x.split(',')[1][:-1].strip()).astype(np.float)"
   ]
  },
  {
   "cell_type": "code",
   "execution_count": 20,
   "metadata": {},
   "outputs": [
    {
     "data": {
      "text/html": [
       "<div>\n",
       "<style>\n",
       "    .dataframe thead tr:only-child th {\n",
       "        text-align: right;\n",
       "    }\n",
       "\n",
       "    .dataframe thead th {\n",
       "        text-align: left;\n",
       "    }\n",
       "\n",
       "    .dataframe tbody tr th {\n",
       "        vertical-align: top;\n",
       "    }\n",
       "</style>\n",
       "<table border=\"1\" class=\"dataframe\">\n",
       "  <thead>\n",
       "    <tr style=\"text-align: right;\">\n",
       "      <th></th>\n",
       "      <th>TicketID</th>\n",
       "      <th>TicketNumber</th>\n",
       "      <th>AgencyName</th>\n",
       "      <th>ViolName</th>\n",
       "      <th>ViolationStreetNumber</th>\n",
       "      <th>ViolationStreetName</th>\n",
       "      <th>MailingStreetNumber</th>\n",
       "      <th>MailingStreetName</th>\n",
       "      <th>MailingCity</th>\n",
       "      <th>MailingState</th>\n",
       "      <th>MailingZipCode</th>\n",
       "      <th>NonUsAddressCode</th>\n",
       "      <th>Country</th>\n",
       "      <th>TicketIssuedDT</th>\n",
       "      <th>TicketIssuedTime</th>\n",
       "      <th>HearingDT</th>\n",
       "      <th>CourtTime</th>\n",
       "      <th>ViolationCode</th>\n",
       "      <th>ViolDescription</th>\n",
       "      <th>Disposition</th>\n",
       "      <th>FineAmt</th>\n",
       "      <th>AdminFee</th>\n",
       "      <th>LateFee</th>\n",
       "      <th>StateFee</th>\n",
       "      <th>CleanUpCost</th>\n",
       "      <th>JudgmentAmt</th>\n",
       "      <th>PaymentStatus</th>\n",
       "      <th>Void</th>\n",
       "      <th>ViolationCategory</th>\n",
       "      <th>ViolationAddress</th>\n",
       "      <th>MailingAddress</th>\n",
       "      <th>incident_id</th>\n",
       "      <th>ViolationAddressCoordinates</th>\n",
       "      <th>ViolationAddressLatitude</th>\n",
       "      <th>ViolationAddressLongitude</th>\n",
       "    </tr>\n",
       "  </thead>\n",
       "  <tbody>\n",
       "    <tr>\n",
       "      <th>0</th>\n",
       "      <td>26288</td>\n",
       "      <td>05000001DAH</td>\n",
       "      <td>Department of Public Works</td>\n",
       "      <td>Group, LLC, Grand Holding</td>\n",
       "      <td>2566</td>\n",
       "      <td>GRAND BLVD</td>\n",
       "      <td>743</td>\n",
       "      <td>Beaubien, Ste. 201</td>\n",
       "      <td>Detroit</td>\n",
       "      <td>MI</td>\n",
       "      <td>48226</td>\n",
       "      <td>NaN</td>\n",
       "      <td>NaN</td>\n",
       "      <td>01/01/38440 12:00:00 AM</td>\n",
       "      <td>12:00:00</td>\n",
       "      <td>01/01/38474 12:00:00 AM</td>\n",
       "      <td>9:00AM</td>\n",
       "      <td>22-2-20</td>\n",
       "      <td>Burning solid waste  in open fires</td>\n",
       "      <td>Responsible By Determination</td>\n",
       "      <td>$1500.00</td>\n",
       "      <td>$20.00</td>\n",
       "      <td>$150.00</td>\n",
       "      <td>$10.00</td>\n",
       "      <td>$0.00</td>\n",
       "      <td>$1680.00</td>\n",
       "      <td>PAID IN FULL</td>\n",
       "      <td>0.0</td>\n",
       "      <td>0</td>\n",
       "      <td>2566 GRAND BLVD\\nDetroit, MI\\n(42.363182370000...</td>\n",
       "      <td>743 Beaubien\\nDetroit, MI 48226\\n(42.333730630...</td>\n",
       "      <td>7133</td>\n",
       "      <td>(42.36318237000006, -83.09167672099994)</td>\n",
       "      <td>42.363182</td>\n",
       "      <td>-83.091677</td>\n",
       "    </tr>\n",
       "    <tr>\n",
       "      <th>1</th>\n",
       "      <td>19800</td>\n",
       "      <td>05000025DAH</td>\n",
       "      <td>Department of Public Works</td>\n",
       "      <td>JACKSON, RAECHELLE</td>\n",
       "      <td>19014</td>\n",
       "      <td>ASHTON</td>\n",
       "      <td>20501</td>\n",
       "      <td>HEYDEN</td>\n",
       "      <td>DETROIT</td>\n",
       "      <td>MI</td>\n",
       "      <td>48219</td>\n",
       "      <td>NaN</td>\n",
       "      <td>NaN</td>\n",
       "      <td>01/01/38383 12:00:00 AM</td>\n",
       "      <td>10:15:00</td>\n",
       "      <td>01/01/38425 12:00:00 AM</td>\n",
       "      <td>1:30PM</td>\n",
       "      <td>22-2-22</td>\n",
       "      <td>Bulk solid waste deposited more than 24 hours ...</td>\n",
       "      <td>Not responsible By Determination</td>\n",
       "      <td>$100.00</td>\n",
       "      <td>$20.00</td>\n",
       "      <td>$10.00</td>\n",
       "      <td>$10.00</td>\n",
       "      <td>$0.00</td>\n",
       "      <td>$140.00</td>\n",
       "      <td>NO PAYMENT APPLIED</td>\n",
       "      <td>0.0</td>\n",
       "      <td>0</td>\n",
       "      <td>19014 ASHTON\\nDetroit, MI\\n(42.429390762000025...</td>\n",
       "      <td>20501 HEYDEN\\nDETROIT, MI 48219\\n(42.442177633...</td>\n",
       "      <td>7134</td>\n",
       "      <td>(42.429390762000025, -83.22039357799997)</td>\n",
       "      <td>42.429391</td>\n",
       "      <td>-83.220394</td>\n",
       "    </tr>\n",
       "    <tr>\n",
       "      <th>2</th>\n",
       "      <td>19804</td>\n",
       "      <td>05000026DAH</td>\n",
       "      <td>Department of Public Works</td>\n",
       "      <td>TALTON, CAROL ANN</td>\n",
       "      <td>18735</td>\n",
       "      <td>STAHELIN</td>\n",
       "      <td>18735</td>\n",
       "      <td>STAHELI N</td>\n",
       "      <td>DETROIT</td>\n",
       "      <td>MI</td>\n",
       "      <td>48219</td>\n",
       "      <td>NaN</td>\n",
       "      <td>NaN</td>\n",
       "      <td>01/01/38383 12:00:00 AM</td>\n",
       "      <td>10:35:00</td>\n",
       "      <td>01/01/38425 12:00:00 AM</td>\n",
       "      <td>1:30PM</td>\n",
       "      <td>22-2-22</td>\n",
       "      <td>Bulk solid waste deposited more than 24 hours ...</td>\n",
       "      <td>Responsible By Determination</td>\n",
       "      <td>$100.00</td>\n",
       "      <td>$20.00</td>\n",
       "      <td>$10.00</td>\n",
       "      <td>$10.00</td>\n",
       "      <td>$0.00</td>\n",
       "      <td>$140.00</td>\n",
       "      <td>PAID IN FULL</td>\n",
       "      <td>0.0</td>\n",
       "      <td>0</td>\n",
       "      <td>18735 STAHELIN\\nDetroit, MI\\n(42.4287074590000...</td>\n",
       "      <td>18735 STAHELI N\\nDETROIT, MI 48219\\n(42.428707...</td>\n",
       "      <td>7135</td>\n",
       "      <td>(42.428707459000066, -83.22754809599996)</td>\n",
       "      <td>42.428707</td>\n",
       "      <td>-83.227548</td>\n",
       "    </tr>\n",
       "  </tbody>\n",
       "</table>\n",
       "</div>"
      ],
      "text/plain": [
       "   TicketID TicketNumber                  AgencyName  \\\n",
       "0     26288  05000001DAH  Department of Public Works   \n",
       "1     19800  05000025DAH  Department of Public Works   \n",
       "2     19804  05000026DAH  Department of Public Works   \n",
       "\n",
       "                    ViolName  ViolationStreetNumber ViolationStreetName  \\\n",
       "0  Group, LLC, Grand Holding                   2566    GRAND BLVD         \n",
       "1        JACKSON, RAECHELLE                   19014    ASHTON             \n",
       "2          TALTON, CAROL ANN                  18735    STAHELIN           \n",
       "\n",
       "  MailingStreetNumber   MailingStreetName MailingCity MailingState  \\\n",
       "0                 743  Beaubien, Ste. 201     Detroit           MI   \n",
       "1               20501              HEYDEN     DETROIT           MI   \n",
       "2               18735           STAHELI N     DETROIT           MI   \n",
       "\n",
       "  MailingZipCode NonUsAddressCode Country           TicketIssuedDT  \\\n",
       "0          48226              NaN     NaN  01/01/38440 12:00:00 AM   \n",
       "1          48219              NaN     NaN  01/01/38383 12:00:00 AM   \n",
       "2          48219              NaN     NaN  01/01/38383 12:00:00 AM   \n",
       "\n",
       "  TicketIssuedTime                HearingDT CourtTime ViolationCode  \\\n",
       "0         12:00:00  01/01/38474 12:00:00 AM    9:00AM       22-2-20   \n",
       "1         10:15:00  01/01/38425 12:00:00 AM    1:30PM       22-2-22   \n",
       "2         10:35:00  01/01/38425 12:00:00 AM    1:30PM       22-2-22   \n",
       "\n",
       "                                     ViolDescription  \\\n",
       "0                 Burning solid waste  in open fires   \n",
       "1  Bulk solid waste deposited more than 24 hours ...   \n",
       "2  Bulk solid waste deposited more than 24 hours ...   \n",
       "\n",
       "                        Disposition   FineAmt AdminFee  LateFee StateFee  \\\n",
       "0      Responsible By Determination  $1500.00   $20.00  $150.00   $10.00   \n",
       "1  Not responsible By Determination   $100.00   $20.00   $10.00   $10.00   \n",
       "2      Responsible By Determination   $100.00   $20.00   $10.00   $10.00   \n",
       "\n",
       "  CleanUpCost JudgmentAmt       PaymentStatus  Void  ViolationCategory  \\\n",
       "0       $0.00    $1680.00        PAID IN FULL   0.0                  0   \n",
       "1       $0.00     $140.00  NO PAYMENT APPLIED   0.0                  0   \n",
       "2       $0.00     $140.00        PAID IN FULL   0.0                  0   \n",
       "\n",
       "                                    ViolationAddress  \\\n",
       "0  2566 GRAND BLVD\\nDetroit, MI\\n(42.363182370000...   \n",
       "1  19014 ASHTON\\nDetroit, MI\\n(42.429390762000025...   \n",
       "2  18735 STAHELIN\\nDetroit, MI\\n(42.4287074590000...   \n",
       "\n",
       "                                      MailingAddress  incident_id  \\\n",
       "0  743 Beaubien\\nDetroit, MI 48226\\n(42.333730630...         7133   \n",
       "1  20501 HEYDEN\\nDETROIT, MI 48219\\n(42.442177633...         7134   \n",
       "2  18735 STAHELI N\\nDETROIT, MI 48219\\n(42.428707...         7135   \n",
       "\n",
       "                ViolationAddressCoordinates  ViolationAddressLatitude  \\\n",
       "0   (42.36318237000006, -83.09167672099994)                 42.363182   \n",
       "1  (42.429390762000025, -83.22039357799997)                 42.429391   \n",
       "2  (42.428707459000066, -83.22754809599996)                 42.428707   \n",
       "\n",
       "   ViolationAddressLongitude  \n",
       "0                 -83.091677  \n",
       "1                 -83.220394  \n",
       "2                 -83.227548  "
      ]
     },
     "execution_count": 20,
     "metadata": {},
     "output_type": "execute_result"
    }
   ],
   "source": [
    "violations.head(3)"
   ]
  },
  {
   "cell_type": "code",
   "execution_count": 21,
   "metadata": {
    "collapsed": true
   },
   "outputs": [],
   "source": [
    "violations['Address'] = violations['ViolationAddress'].apply(lambda x: x.split('\\n')[0])"
   ]
  },
  {
   "cell_type": "code",
   "execution_count": 22,
   "metadata": {},
   "outputs": [],
   "source": [
    "\"\"\"\n",
    "Gather only columns of latitude, longitude\n",
    "and address from Violations\n",
    "\"\"\"\n",
    "temp_violations = pd.DataFrame()\n",
    "temp_violations['incident_id'] = violations['incident_id']\n",
    "temp_violations['lat'] = violations['ViolationAddressLatitude']\n",
    "temp_violations['lon'] = violations['ViolationAddressLongitude']\n",
    "temp_violations['addr'] = violations['Address']"
   ]
  },
  {
   "cell_type": "code",
   "execution_count": 23,
   "metadata": {},
   "outputs": [
    {
     "data": {
      "text/plain": [
       "<seaborn.axisgrid.FacetGrid at 0x7f67ede7c4e0>"
      ]
     },
     "execution_count": 23,
     "metadata": {},
     "output_type": "execute_result"
    },
    {
     "data": {
      "image/png": "[encoded data removed]",
      "text/plain": [
       "<matplotlib.figure.Figure at 0x7f67ede7c470>"
      ]
     },
     "metadata": {},
     "output_type": "display_data"
    }
   ],
   "source": [
    "\"\"\"\n",
    "Plot the datapoints, they should roughly form\n",
    "the shape of Detroit if they have no outliers.\n",
    "\"\"\"\n",
    "sns.lmplot('lon', 'lat', data=temp_violations, fit_reg=False)"
   ]
  },
  {
   "cell_type": "markdown",
   "metadata": {},
   "source": [
    "#### 2) Permits"
   ]
  },
  {
   "cell_type": "code",
   "execution_count": 24,
   "metadata": {
    "collapsed": true
   },
   "outputs": [],
   "source": [
    "permits = pd.read_csv('../data/permits.csv')"
   ]
  },
  {
   "cell_type": "markdown",
   "metadata": {},
   "source": [
    "#### Remove those rows which have NaN values in column ``site_location``"
   ]
  },
  {
   "cell_type": "code",
   "execution_count": 25,
   "metadata": {
    "collapsed": true
   },
   "outputs": [],
   "source": [
    "permits.dropna(subset=['site_location'], inplace=True)"
   ]
  },
  {
   "cell_type": "code",
   "execution_count": 26,
   "metadata": {
    "collapsed": true
   },
   "outputs": [],
   "source": [
    "permits['Coordinates'] = permits['site_location'].map(lambda x: x.split('\\n')[-1])\n",
    "permits['Coordinates'].replace('', np.nan, inplace=True)\n",
    "permits.dropna(subset=['Coordinates'], inplace=True)"
   ]
  },
  {
   "cell_type": "code",
   "execution_count": 27,
   "metadata": {},
   "outputs": [],
   "source": [
    "\"\"\"\n",
    "Get Address Latitudes and Longitudes\n",
    "\"\"\"\n",
    "permits['Latitude'] = permits['Coordinates'].map(lambda x: x.split(',')[0][1:].strip()).astype(np.float)\n",
    "permits['Longitude'] = permits['Coordinates'].map(lambda x: x.split(',')[1][:-1].strip()).astype(np.float)"
   ]
  },
  {
   "cell_type": "markdown",
   "metadata": {},
   "source": [
    "#### The Dataset clearly has an Outlier!"
   ]
  },
  {
   "cell_type": "code",
   "execution_count": 28,
   "metadata": {},
   "outputs": [
    {
     "data": {
      "text/plain": [
       "<seaborn.axisgrid.FacetGrid at 0x7f67f9f67470>"
      ]
     },
     "execution_count": 28,
     "metadata": {},
     "output_type": "execute_result"
    },
    {
     "data": {
      "image/png": "[encoded data removed]",
      "text/plain": [
       "<matplotlib.figure.Figure at 0x7f67f9f67208>"
      ]
     },
     "metadata": {},
     "output_type": "display_data"
    }
   ],
   "source": [
    "\"\"\"\n",
    "Plot the datapoints, they should roughly form\n",
    "the shape of Detroit if they have no outliers.\n",
    "\"\"\"\n",
    "sns.lmplot('Longitude', 'Latitude',data=permits, fit_reg=False)"
   ]
  },
  {
   "cell_type": "markdown",
   "metadata": {},
   "source": [
    "#### Remove all Outliers"
   ]
  },
  {
   "cell_type": "code",
   "execution_count": 29,
   "metadata": {
    "collapsed": true
   },
   "outputs": [],
   "source": [
    "permits = permits[permits['Latitude'] < 46]"
   ]
  },
  {
   "cell_type": "code",
   "execution_count": 30,
   "metadata": {
    "collapsed": true
   },
   "outputs": [],
   "source": [
    "\"\"\"\n",
    "Gather only columns of latitude, longitude\n",
    "and address from Permits\n",
    "\"\"\"\n",
    "temp_permits = pd.DataFrame()\n",
    "temp_permits['incident_id'] = permits['incident_id']\n",
    "temp_permits['lat'] = permits['Latitude']\n",
    "temp_permits['lon'] = permits['Longitude']\n",
    "temp_permits['addr'] = permits['SITE_ADDRESS']"
   ]
  },
  {
   "cell_type": "code",
   "execution_count": 31,
   "metadata": {},
   "outputs": [
    {
     "data": {
      "text/plain": [
       "<seaborn.axisgrid.FacetGrid at 0x7f67e5b19a58>"
      ]
     },
     "execution_count": 31,
     "metadata": {},
     "output_type": "execute_result"
    },
    {
     "data": {
      "image/png": "[encoded data removed]",
      "text/plain": [
       "<matplotlib.figure.Figure at 0x7f67e5b19710>"
      ]
     },
     "metadata": {},
     "output_type": "display_data"
    }
   ],
   "source": [
    "\"\"\"\n",
    "Plot the datapoints, they should roughly form\n",
    "the shape of Detroit if they have no outliers.\n",
    "\"\"\"\n",
    "sns.lmplot('lon', 'lat', data=temp_permits, fit_reg=False)"
   ]
  },
  {
   "cell_type": "markdown",
   "metadata": {},
   "source": [
    "#### 3) Crimes"
   ]
  },
  {
   "cell_type": "code",
   "execution_count": 32,
   "metadata": {},
   "outputs": [
    {
     "name": "stderr",
     "output_type": "stream",
     "text": [
      "/home/madhur/anaconda3/lib/python3.6/site-packages/IPython/core/interactiveshell.py:2698: DtypeWarning: Columns (2) have mixed types. Specify dtype option on import or set low_memory=False.\n",
      "  interactivity=interactivity, compiler=compiler, result=result)\n"
     ]
    }
   ],
   "source": [
    "crimes = pd.read_csv('../data/crimes.csv')"
   ]
  },
  {
   "cell_type": "code",
   "execution_count": 33,
   "metadata": {
    "collapsed": true
   },
   "outputs": [],
   "source": [
    "crimes['Coordinates'] = crimes['LOCATION'].map(lambda x: x.split('\\n')[-1])\n",
    "crimes['Coordinates'] = crimes['Coordinates'].replace('', np.nan)\n",
    "crimes.dropna(subset=['Coordinates'], inplace=True)"
   ]
  },
  {
   "cell_type": "code",
   "execution_count": 34,
   "metadata": {},
   "outputs": [],
   "source": [
    "\"\"\"\n",
    "Get Address Latitudes and Longitudes\n",
    "\"\"\"\n",
    "crimes['Latitude'] = crimes['Coordinates'].map(lambda x: x.split(',')[0][1:].strip()).astype(np.float)\n",
    "crimes['Longitude'] = crimes['Coordinates'].map(lambda x: x.split(',')[1][:-1].strip()).astype(np.float)"
   ]
  },
  {
   "cell_type": "markdown",
   "metadata": {},
   "source": [
    "#### The Dataset clearly has an Outlier!"
   ]
  },
  {
   "cell_type": "code",
   "execution_count": 35,
   "metadata": {},
   "outputs": [
    {
     "data": {
      "text/plain": [
       "<seaborn.axisgrid.FacetGrid at 0x7f6800ef9c50>"
      ]
     },
     "execution_count": 35,
     "metadata": {},
     "output_type": "execute_result"
    },
    {
     "data": {
      "image/png": "[encoded data removed]",
      "text/plain": [
       "<matplotlib.figure.Figure at 0x7f6800ef9d68>"
      ]
     },
     "metadata": {},
     "output_type": "display_data"
    }
   ],
   "source": [
    "\"\"\"\n",
    "Plot the datapoints, they should roughly form\n",
    "the shape of Detroit if they have no outliers.\n",
    "\"\"\"\n",
    "sns.lmplot('Longitude','Latitude', data=crimes, fit_reg=False)"
   ]
  },
  {
   "cell_type": "markdown",
   "metadata": {},
   "source": [
    "#### Remove all Outliers"
   ]
  },
  {
   "cell_type": "code",
   "execution_count": 36,
   "metadata": {},
   "outputs": [
    {
     "data": {
      "text/plain": [
       "<seaborn.axisgrid.FacetGrid at 0x7f6806cad6d8>"
      ]
     },
     "execution_count": 36,
     "metadata": {},
     "output_type": "execute_result"
    },
    {
     "data": {
      "image/png": "[encoded data removed]",
      "text/plain": [
       "<matplotlib.figure.Figure at 0x7f6806cad3c8>"
      ]
     },
     "metadata": {},
     "output_type": "display_data"
    }
   ],
   "source": [
    "crimes = crimes[crimes['Latitude'] < 101]\n",
    "sns.lmplot('Longitude','Latitude', data=crimes, fit_reg=False)"
   ]
  },
  {
   "cell_type": "code",
   "execution_count": 37,
   "metadata": {},
   "outputs": [
    {
     "data": {
      "text/plain": [
       "<seaborn.axisgrid.FacetGrid at 0x7f6806c717b8>"
      ]
     },
     "execution_count": 37,
     "metadata": {},
     "output_type": "execute_result"
    },
    {
     "data": {
      "image/png": "[encoded data removed]",
      "text/plain": [
       "<matplotlib.figure.Figure at 0x7f6806c716a0>"
      ]
     },
     "metadata": {},
     "output_type": "display_data"
    }
   ],
   "source": [
    "crimes = crimes[crimes['Longitude'] < -80.2]\n",
    "sns.lmplot('Longitude','Latitude', data=crimes, fit_reg=False)"
   ]
  },
  {
   "cell_type": "code",
   "execution_count": 38,
   "metadata": {},
   "outputs": [
    {
     "data": {
      "text/plain": [
       "<seaborn.axisgrid.FacetGrid at 0x7f6806be1cf8>"
      ]
     },
     "execution_count": 38,
     "metadata": {},
     "output_type": "execute_result"
    },
    {
     "data": {
      "image/png": "[encoded data removed]",
      "text/plain": [
       "<matplotlib.figure.Figure at 0x7f6806be1b70>"
      ]
     },
     "metadata": {},
     "output_type": "display_data"
    }
   ],
   "source": [
    "crimes = crimes[(crimes['Latitude'] > 42) & (crimes['Latitude'] < 42.45)]\n",
    "crimes = crimes[(crimes['Longitude'] > -83.3) & (crimes['Longitude'] < -82)]\n",
    "sns.lmplot('Longitude','Latitude', data=crimes, fit_reg=False)"
   ]
  },
  {
   "cell_type": "code",
   "execution_count": 39,
   "metadata": {
    "collapsed": true
   },
   "outputs": [],
   "source": [
    "temp_crimes = pd.DataFrame()"
   ]
  },
  {
   "cell_type": "code",
   "execution_count": 40,
   "metadata": {
    "collapsed": true
   },
   "outputs": [],
   "source": [
    "\"\"\"\n",
    "Gather only columns of latitude, longitude\n",
    "and address from Crimes\n",
    "\"\"\"\n",
    "temp_crimes['incident_id'] = crimes['incident_id']\n",
    "temp_crimes['lat'] = crimes['Latitude']\n",
    "temp_crimes['lon'] = crimes['Longitude']\n",
    "temp_crimes['addr'] = crimes['ADDRESS']"
   ]
  },
  {
   "cell_type": "code",
   "execution_count": 41,
   "metadata": {},
   "outputs": [
    {
     "data": {
      "text/html": [
       "<div>\n",
       "<style>\n",
       "    .dataframe thead tr:only-child th {\n",
       "        text-align: right;\n",
       "    }\n",
       "\n",
       "    .dataframe thead th {\n",
       "        text-align: left;\n",
       "    }\n",
       "\n",
       "    .dataframe tbody tr th {\n",
       "        vertical-align: top;\n",
       "    }\n",
       "</style>\n",
       "<table border=\"1\" class=\"dataframe\">\n",
       "  <thead>\n",
       "    <tr style=\"text-align: right;\">\n",
       "      <th></th>\n",
       "      <th>incident_id</th>\n",
       "      <th>lat</th>\n",
       "      <th>lon</th>\n",
       "      <th>addr</th>\n",
       "    </tr>\n",
       "  </thead>\n",
       "  <tbody>\n",
       "    <tr>\n",
       "      <th>0</th>\n",
       "      <td>314937</td>\n",
       "      <td>42.3676</td>\n",
       "      <td>-83.1219</td>\n",
       "      <td>09100 PETOSKEY</td>\n",
       "    </tr>\n",
       "    <tr>\n",
       "      <th>1</th>\n",
       "      <td>314938</td>\n",
       "      <td>42.3725</td>\n",
       "      <td>-83.2033</td>\n",
       "      <td>00 PLYMOUTH AND MANSFIELD</td>\n",
       "    </tr>\n",
       "    <tr>\n",
       "      <th>2</th>\n",
       "      <td>314939</td>\n",
       "      <td>42.4339</td>\n",
       "      <td>-83.0241</td>\n",
       "      <td>00 E 7 MILE  VAN DYKE</td>\n",
       "    </tr>\n",
       "  </tbody>\n",
       "</table>\n",
       "</div>"
      ],
      "text/plain": [
       "   incident_id      lat      lon                       addr\n",
       "0       314937  42.3676 -83.1219             09100 PETOSKEY\n",
       "1       314938  42.3725 -83.2033  00 PLYMOUTH AND MANSFIELD\n",
       "2       314939  42.4339 -83.0241      00 E 7 MILE  VAN DYKE"
      ]
     },
     "execution_count": 41,
     "metadata": {},
     "output_type": "execute_result"
    }
   ],
   "source": [
    "temp_crimes.head(3)"
   ]
  },
  {
   "cell_type": "markdown",
   "metadata": {},
   "source": [
    "#### 4) Distress Calls"
   ]
  },
  {
   "cell_type": "code",
   "execution_count": 42,
   "metadata": {
    "collapsed": true
   },
   "outputs": [],
   "source": [
    "calls = pd.read_csv('../data/calls.csv')"
   ]
  },
  {
   "cell_type": "code",
   "execution_count": 43,
   "metadata": {},
   "outputs": [
    {
     "data": {
      "text/html": [
       "<div>\n",
       "<style>\n",
       "    .dataframe thead tr:only-child th {\n",
       "        text-align: right;\n",
       "    }\n",
       "\n",
       "    .dataframe thead th {\n",
       "        text-align: left;\n",
       "    }\n",
       "\n",
       "    .dataframe tbody tr th {\n",
       "        vertical-align: top;\n",
       "    }\n",
       "</style>\n",
       "<table border=\"1\" class=\"dataframe\">\n",
       "  <thead>\n",
       "    <tr style=\"text-align: right;\">\n",
       "      <th></th>\n",
       "      <th>ticket_id</th>\n",
       "      <th>city</th>\n",
       "      <th>issue_type</th>\n",
       "      <th>ticket_status</th>\n",
       "      <th>issue_description</th>\n",
       "      <th>rating</th>\n",
       "      <th>ticket_closed_date_time</th>\n",
       "      <th>acknowledged_at</th>\n",
       "      <th>ticket_created_date_time</th>\n",
       "      <th>ticket_last_updated_date_time</th>\n",
       "      <th>address</th>\n",
       "      <th>lat</th>\n",
       "      <th>lng</th>\n",
       "      <th>location</th>\n",
       "      <th>image</th>\n",
       "      <th>incident_id</th>\n",
       "    </tr>\n",
       "  </thead>\n",
       "  <tbody>\n",
       "    <tr>\n",
       "      <th>0</th>\n",
       "      <td>1516722.0</td>\n",
       "      <td>City of Detroit</td>\n",
       "      <td>Clogged Drain</td>\n",
       "      <td>Acknowledged</td>\n",
       "      <td>Two drains one on each side of street, street ...</td>\n",
       "      <td>3</td>\n",
       "      <td>NaN</td>\n",
       "      <td>03/06/2015 10:03:38 PM</td>\n",
       "      <td>03/06/2015 09:57:52 PM</td>\n",
       "      <td>04/12/2015 01:01:10 AM</td>\n",
       "      <td>13120-13130 Ilene Street Detroit, MI 48238, USA</td>\n",
       "      <td>42.383998</td>\n",
       "      <td>-83.161039</td>\n",
       "      <td>(42.3839977668, -83.1610385642)</td>\n",
       "      <td>NaN</td>\n",
       "      <td>434868.0</td>\n",
       "    </tr>\n",
       "    <tr>\n",
       "      <th>1</th>\n",
       "      <td>1525361.0</td>\n",
       "      <td>City of Detroit</td>\n",
       "      <td>Clogged Drain</td>\n",
       "      <td>Acknowledged</td>\n",
       "      <td>standing water on lumplin</td>\n",
       "      <td>2</td>\n",
       "      <td>NaN</td>\n",
       "      <td>03/11/2015 04:23:11 PM</td>\n",
       "      <td>03/11/2015 04:14:29 PM</td>\n",
       "      <td>04/07/2015 02:04:44 PM</td>\n",
       "      <td>1485 E. Outer Drive Detroit, Michigan</td>\n",
       "      <td>42.440471</td>\n",
       "      <td>-83.080919</td>\n",
       "      <td>(42.4404708, -83.080919)</td>\n",
       "      <td>NaN</td>\n",
       "      <td>434869.0</td>\n",
       "    </tr>\n",
       "    <tr>\n",
       "      <th>2</th>\n",
       "      <td>1525218.0</td>\n",
       "      <td>City of Detroit</td>\n",
       "      <td>Clogged Drain</td>\n",
       "      <td>Closed</td>\n",
       "      <td>CITZEN CALLED TO REPORT CLOGGED DRAINS</td>\n",
       "      <td>2</td>\n",
       "      <td>08/15/2015 12:03:43 AM</td>\n",
       "      <td>03/11/2015 03:39:05 PM</td>\n",
       "      <td>03/11/2015 03:26:20 PM</td>\n",
       "      <td>08/15/2015 12:03:44 AM</td>\n",
       "      <td>15460 Eastburn Detroit, Michigan</td>\n",
       "      <td>42.445244</td>\n",
       "      <td>-82.962038</td>\n",
       "      <td>(42.445244, -82.962038)</td>\n",
       "      <td>NaN</td>\n",
       "      <td>434870.0</td>\n",
       "    </tr>\n",
       "  </tbody>\n",
       "</table>\n",
       "</div>"
      ],
      "text/plain": [
       "   ticket_id             city     issue_type ticket_status  \\\n",
       "0  1516722.0  City of Detroit  Clogged Drain  Acknowledged   \n",
       "1  1525361.0  City of Detroit  Clogged Drain  Acknowledged   \n",
       "2  1525218.0  City of Detroit  Clogged Drain        Closed   \n",
       "\n",
       "                                   issue_description rating  \\\n",
       "0  Two drains one on each side of street, street ...      3   \n",
       "1                          standing water on lumplin      2   \n",
       "2             CITZEN CALLED TO REPORT CLOGGED DRAINS      2   \n",
       "\n",
       "  ticket_closed_date_time         acknowledged_at ticket_created_date_time  \\\n",
       "0                     NaN  03/06/2015 10:03:38 PM   03/06/2015 09:57:52 PM   \n",
       "1                     NaN  03/11/2015 04:23:11 PM   03/11/2015 04:14:29 PM   \n",
       "2  08/15/2015 12:03:43 AM  03/11/2015 03:39:05 PM   03/11/2015 03:26:20 PM   \n",
       "\n",
       "  ticket_last_updated_date_time  \\\n",
       "0        04/12/2015 01:01:10 AM   \n",
       "1        04/07/2015 02:04:44 PM   \n",
       "2        08/15/2015 12:03:44 AM   \n",
       "\n",
       "                                           address        lat        lng  \\\n",
       "0  13120-13130 Ilene Street Detroit, MI 48238, USA  42.383998 -83.161039   \n",
       "1            1485 E. Outer Drive Detroit, Michigan  42.440471 -83.080919   \n",
       "2                 15460 Eastburn Detroit, Michigan  42.445244 -82.962038   \n",
       "\n",
       "                          location image  incident_id  \n",
       "0  (42.3839977668, -83.1610385642)   NaN     434868.0  \n",
       "1         (42.4404708, -83.080919)   NaN     434869.0  \n",
       "2          (42.445244, -82.962038)   NaN     434870.0  "
      ]
     },
     "execution_count": 43,
     "metadata": {},
     "output_type": "execute_result"
    }
   ],
   "source": [
    "calls['address'] = calls['address'].replace('', np.nan)\n",
    "calls.dropna(subset=['address'], inplace=True)\n",
    "calls.head(3)"
   ]
  },
  {
   "cell_type": "code",
   "execution_count": 44,
   "metadata": {
    "collapsed": true
   },
   "outputs": [],
   "source": [
    "def truncate_addr(x):\n",
    "    p = x.lower().find('detroit')\n",
    "    if 'detroit' in x.lower():\n",
    "        x = x[:p]\n",
    "    p = x.lower().find('michigan')\n",
    "    if 'michigan' in x.lower():\n",
    "        x = x[:p]\n",
    "    return x.rstrip()"
   ]
  },
  {
   "cell_type": "code",
   "execution_count": 45,
   "metadata": {
    "collapsed": true
   },
   "outputs": [],
   "source": [
    "calls['address_trucated'] = calls['address'].map(truncate_addr)"
   ]
  },
  {
   "cell_type": "code",
   "execution_count": 46,
   "metadata": {},
   "outputs": [
    {
     "data": {
      "text/plain": [
       "<seaborn.axisgrid.FacetGrid at 0x7f6806a88c88>"
      ]
     },
     "execution_count": 46,
     "metadata": {},
     "output_type": "execute_result"
    },
    {
     "data": {
      "image/png": "[encoded data removed]",
      "text/plain": [
       "<matplotlib.figure.Figure at 0x7f6806a88b38>"
      ]
     },
     "metadata": {},
     "output_type": "display_data"
    }
   ],
   "source": [
    "\"\"\"\n",
    "Plot the datapoints, they should roughly form\n",
    "the shape of Detroit if they have no outliers.\n",
    "\"\"\"\n",
    "sns.lmplot('lng', 'lat', data=calls, fit_reg=False)"
   ]
  },
  {
   "cell_type": "code",
   "execution_count": 47,
   "metadata": {},
   "outputs": [
    {
     "data": {
      "text/plain": [
       "<seaborn.axisgrid.FacetGrid at 0x7f67fcd97dd8>"
      ]
     },
     "execution_count": 47,
     "metadata": {},
     "output_type": "execute_result"
    },
    {
     "data": {
      "image/png": "[encoded data removed]",
      "text/plain": [
       "<matplotlib.figure.Figure at 0x7f680674bda0>"
      ]
     },
     "metadata": {},
     "output_type": "display_data"
    }
   ],
   "source": [
    "calls = calls[calls['lng'] > -84]\n",
    "sns.lmplot('lng', 'lat', data=calls, fit_reg=False)"
   ]
  },
  {
   "cell_type": "code",
   "execution_count": 48,
   "metadata": {
    "collapsed": true
   },
   "outputs": [],
   "source": [
    "temp_calls = pd.DataFrame()"
   ]
  },
  {
   "cell_type": "code",
   "execution_count": 49,
   "metadata": {
    "collapsed": true
   },
   "outputs": [],
   "source": [
    "\"\"\"\n",
    "Gather only columns of latitude, longitude\n",
    "and address from Distress Calls\n",
    "\"\"\"\n",
    "temp_calls['incident_id'] = calls['incident_id']\n",
    "temp_calls['lat'] = calls['lat']\n",
    "temp_calls['lon'] = calls['lng']\n",
    "temp_calls['addr'] = calls['address_trucated']"
   ]
  },
  {
   "cell_type": "markdown",
   "metadata": {},
   "source": [
    "### Concatenate and Merge all 4 datasets"
   ]
  },
  {
   "cell_type": "code",
   "execution_count": 50,
   "metadata": {
    "collapsed": true
   },
   "outputs": [],
   "source": [
    "raw_incidents = pd.concat((temp_permits, temp_violations), axis=0, ignore_index=True)\n",
    "raw_incidents = pd.concat((raw_incidents, temp_crimes), axis=0, ignore_index=True)\n",
    "raw_incidents = pd.concat((raw_incidents, temp_calls), axis=0, ignore_index=True)"
   ]
  },
  {
   "cell_type": "code",
   "execution_count": 51,
   "metadata": {
    "collapsed": true
   },
   "outputs": [],
   "source": [
    "raw_incidents.sort_values(by=['lat', 'lon'], inplace=True)"
   ]
  },
  {
   "cell_type": "code",
   "execution_count": 52,
   "metadata": {
    "collapsed": true
   },
   "outputs": [],
   "source": [
    "raw_incidents['addr'].replace('', np.nan, inplace=True)\n",
    "raw_incidents.dropna(subset=['addr'], inplace=True)"
   ]
  },
  {
   "cell_type": "code",
   "execution_count": 53,
   "metadata": {},
   "outputs": [
    {
     "data": {
      "text/plain": [
       "<seaborn.axisgrid.FacetGrid at 0x7f67fb28efd0>"
      ]
     },
     "execution_count": 53,
     "metadata": {},
     "output_type": "execute_result"
    },
    {
     "data": {
      "image/png": "[encoded data removed]",
      "text/plain": [
       "<matplotlib.figure.Figure at 0x7f67fb0ed588>"
      ]
     },
     "metadata": {},
     "output_type": "display_data"
    }
   ],
   "source": [
    "sns.lmplot('lon', 'lat', data=raw_incidents, fit_reg=False)"
   ]
  },
  {
   "cell_type": "markdown",
   "metadata": {},
   "source": [
    "### Clean up Street Addresses"
   ]
  },
  {
   "cell_type": "code",
   "execution_count": 54,
   "metadata": {
    "collapsed": true
   },
   "outputs": [],
   "source": [
    "incidents = pd.read_csv('../data/raw_incidents.csv')"
   ]
  },
  {
   "cell_type": "code",
   "execution_count": 55,
   "metadata": {
    "collapsed": true
   },
   "outputs": [],
   "source": [
    "import string\n",
    "import re\n",
    "\n",
    "def clean_addr(s):\n",
    "    s = s.lower()\n",
    "    s = s.translate(str.maketrans('', ''))\n",
    "    s = re.sub(r'\\bstreet\\b', r'st', s)\n",
    "    s = re.sub(r'\\broad\\b', r'rd', s)\n",
    "    s = re.sub(r'\\bavenue\\b', r'av', s)\n",
    "    s = re.sub(r'\\bdrive\\b', r'dr', s)\n",
    "    s = re.sub(r'\\bboulevard\\b', r'bd', s)\n",
    "    s = re.sub(r'\\bblvd\\b', r'bd', s)\n",
    "    s = re.sub(r'\\bnorth\\b', r'n', s)\n",
    "    s = re.sub(r'\\bsouth\\b', r's', s)\n",
    "    s = re.sub(r'\\bwest\\b', r'w', s)\n",
    "    s = re.sub(r'\\beast\\b', r'e', s)\n",
    "    s = re.sub(r' +', r' ', s)\n",
    "    p = s.find('detroit mi')\n",
    "    if p != -1:\n",
    "        s = s[:p]\n",
    "    p = s.find('detroitmi')\n",
    "    if p != -1:\n",
    "        s = s[:p]        \n",
    "    s = s.strip()\n",
    "    return s"
   ]
  },
  {
   "cell_type": "code",
   "execution_count": 56,
   "metadata": {
    "collapsed": true
   },
   "outputs": [],
   "source": [
    "incidents['clean_addr'] = incidents['addr'].map(clean_addr)"
   ]
  },
  {
   "cell_type": "code",
   "execution_count": 57,
   "metadata": {
    "collapsed": true
   },
   "outputs": [],
   "source": [
    "\"\"\"\n",
    "Forms a cluster of all the incidents reported\n",
    "for a particular address\n",
    "\"\"\"\n",
    "def get_clusters(df):\n",
    "    count = 0\n",
    "    table = {}\n",
    "    cluster = []\n",
    "    for addr in df.loc[:,'clean_addr']:\n",
    "        if addr in table.keys():\n",
    "            cluster.append(table[addr])\n",
    "        else:\n",
    "            count += 1\n",
    "            table[addr] = count\n",
    "            cluster.append(count)\n",
    "    df['cluster'] = np.array(cluster)\n",
    "    return df, count"
   ]
  },
  {
   "cell_type": "code",
   "execution_count": 58,
   "metadata": {
    "collapsed": true
   },
   "outputs": [],
   "source": [
    "incidents, num_clusters = get_clusters(incidents)"
   ]
  },
  {
   "cell_type": "code",
   "execution_count": 59,
   "metadata": {
    "collapsed": true
   },
   "outputs": [],
   "source": [
    "incidents.sort_values(by=['clean_addr'], ascending=True, inplace=True)"
   ]
  },
  {
   "cell_type": "code",
   "execution_count": 60,
   "metadata": {
    "collapsed": true
   },
   "outputs": [],
   "source": [
    "incidents = incidents[incidents['clean_addr'] != '00 detroit']"
   ]
  },
  {
   "cell_type": "code",
   "execution_count": 61,
   "metadata": {
    "collapsed": true
   },
   "outputs": [],
   "source": [
    "\"\"\"\n",
    "Checks if 2 addresses are same after cleaning up\n",
    "\n",
    "\"\"\"\n",
    "def is_same_addr(x, y):\n",
    "    xt = x.split()\n",
    "    yt = y.split()\n",
    "    xs = set(xt)\n",
    "    ys = set(yt)\n",
    "    \n",
    "    \"\"\"\n",
    "    First Matches up with the Street Number\n",
    "    \"\"\"\n",
    "    flag_start_with_number = xt[0].isdigit() and yt[0].isdigit()\n",
    "    flag_number_match = (xt[0] == yt[0])\n",
    "    \n",
    "    num_tokens_match = len(xs.intersection(ys))\n",
    "    \n",
    "    \"\"\"\n",
    "    Checks for spelling mistakes\n",
    "    \"\"\"\n",
    "    flag_edit_dist_ok = (edit_distance(x, y, sub_cost=2) < 7)\n",
    "    \n",
    "    if flag_start_with_number:\n",
    "        if flag_number_match and num_tokens_match >= 1 and flag_edit_dist_ok:\n",
    "            return True\n",
    "    else:\n",
    "        if num_tokens_match >= 1 and flag_edit_dist_ok:\n",
    "            return True\n",
    "    \n",
    "    return False"
   ]
  },
  {
   "cell_type": "code",
   "execution_count": 62,
   "metadata": {
    "collapsed": true
   },
   "outputs": [],
   "source": [
    "\"\"\"\n",
    "Each building is assigned the same value of cluster\n",
    "after checking if their cleaned-up addresses are same!\n",
    "\"\"\"\n",
    "def refine_clusters(df):\n",
    "    clusters = {}\n",
    "    \n",
    "    row0 = df.iloc[0, :]\n",
    "    prev_cluster = row0['cluster']\n",
    "    prev_addr = row0['clean_addr']\n",
    "    row0_id =row0['incident_id']\n",
    "    clusters[row0_id] = prev_cluster\n",
    "\n",
    "    for index, row in df.iterrows():\n",
    "        addr = row['clean_addr']\n",
    "        cluster = row['cluster']\n",
    "        id = row['incident_id']\n",
    "        \n",
    "        if id == row0_id:\n",
    "            continue\n",
    "        \n",
    "        if cluster != prev_cluster:\n",
    "            if is_same_addr(addr, prev_addr):\n",
    "                cluster = prev_cluster\n",
    "            else:\n",
    "                prev_cluster = cluster\n",
    "                prev_addr = addr\n",
    "        \n",
    "        clusters[id] = cluster\n",
    "    \n",
    "    df['refined_cluster'] = df['incident_id'].map(lambda x: clusters[x])\n",
    "    return df"
   ]
  },
  {
   "cell_type": "code",
   "execution_count": 63,
   "metadata": {},
   "outputs": [],
   "source": [
    "incidents = refine_clusters(incidents)"
   ]
  },
  {
   "cell_type": "code",
   "execution_count": 64,
   "metadata": {
    "collapsed": true
   },
   "outputs": [],
   "source": [
    "incidents.sort_values(by=['lat', 'lon'], inplace=True)"
   ]
  },
  {
   "cell_type": "code",
   "execution_count": 65,
   "metadata": {
    "collapsed": true
   },
   "outputs": [],
   "source": [
    "unique_clusters = incidents['refined_cluster'].unique()"
   ]
  },
  {
   "cell_type": "code",
   "execution_count": 66,
   "metadata": {
    "collapsed": true
   },
   "outputs": [],
   "source": [
    "cluster_remap = dict(zip(unique_clusters, range(len(unique_clusters))))"
   ]
  },
  {
   "cell_type": "code",
   "execution_count": 67,
   "metadata": {
    "collapsed": true
   },
   "outputs": [],
   "source": [
    "incidents['remapped_cluster'] = incidents['refined_cluster'].map(lambda x: cluster_remap[x])"
   ]
  },
  {
   "cell_type": "code",
   "execution_count": 68,
   "metadata": {
    "collapsed": true
   },
   "outputs": [],
   "source": [
    "incidents.to_csv('../data/incidents.csv', index=False)"
   ]
  },
  {
   "cell_type": "markdown",
   "metadata": {},
   "source": [
    "### Get Coordinates of Buildings (for plotting)"
   ]
  },
  {
   "cell_type": "code",
   "execution_count": 69,
   "metadata": {
    "collapsed": true
   },
   "outputs": [],
   "source": [
    "import geopy\n",
    "from geopy.distance import vincenty"
   ]
  },
  {
   "cell_type": "code",
   "execution_count": 70,
   "metadata": {
    "collapsed": true
   },
   "outputs": [],
   "source": [
    "eps = 0.000075"
   ]
  },
  {
   "cell_type": "code",
   "execution_count": 71,
   "metadata": {
    "collapsed": true
   },
   "outputs": [],
   "source": [
    "\"\"\"\n",
    "Returns the bottom-left co-ordinates\n",
    "and the top-right co-ordinates for\n",
    "the each building.\n",
    "\"\"\"\n",
    "def get_buildings(df):\n",
    "    buildings = []\n",
    "    \n",
    "    row0 = df.iloc[0, :]\n",
    "    row0_id =row0['incident_id']\n",
    "    \n",
    "    lat = row0['lat']\n",
    "    lon = row0['lon']\n",
    "    \n",
    "    current_cluster = row0['remapped_cluster']\n",
    "    current_addr = row0['addr']\n",
    "    bottom_left = [lat, lon]\n",
    "    top_right = [lat, lon]\n",
    "    incident_ids = [row0_id]\n",
    "    num = 1\n",
    "\n",
    "    for index, row in df.iterrows():\n",
    "        id = row['incident_id']\n",
    "        cluster = row['remapped_cluster']\n",
    "        addr = row['addr']\n",
    "        lat = row['lat']\n",
    "        lon = row['lon']\n",
    "        \n",
    "        if id == row0_id:\n",
    "            continue\n",
    "        \n",
    "        if cluster == current_cluster:\n",
    "            num += 1\n",
    "            incident_ids.append(id)\n",
    "            if lat < bottom_left[0] and lon < bottom_left[1]:\n",
    "                bottom_left = [lat, lon]\n",
    "            if lat > top_right[0] and lat > top_right[1]:\n",
    "                top_right = [lat, lon]\n",
    "            \n",
    "        else:\n",
    "            bottom_left[0] -= eps\n",
    "            bottom_left[1] -= eps\n",
    "            top_right[0] += eps\n",
    "            top_right[1] += eps\n",
    "            this = [bottom_left, top_right, current_addr, current_cluster, num, incident_ids]\n",
    "            buildings.append(this)\n",
    "            \n",
    "            current_cluster = cluster\n",
    "            current_addr = addr\n",
    "            bottom_left = [lat, lon]\n",
    "            top_right = [lat, lon]\n",
    "            incident_ids = [id]\n",
    "            num = 1\n",
    "            \n",
    "    df_buildings= pd.DataFrame(buildings)\n",
    "    df_buildings.columns = ['bottom_left', 'top_right', 'addr', 'cluster', 'num', 'incident_ids']\n",
    "    df_buildings['building_id'] = range(len(buildings))\n",
    "    \n",
    "    return df_buildings"
   ]
  },
  {
   "cell_type": "code",
   "execution_count": 72,
   "metadata": {
    "collapsed": true
   },
   "outputs": [],
   "source": [
    "incidents.sort_values(by=['remapped_cluster'], inplace=True)"
   ]
  },
  {
   "cell_type": "code",
   "execution_count": 73,
   "metadata": {
    "collapsed": true
   },
   "outputs": [],
   "source": [
    "buildings = get_buildings(incidents)\n",
    "buildings.to_csv('../data/buildings.csv', index=False)\n",
    "buildings = pd.read_csv('../data/buildings.csv')"
   ]
  },
  {
   "cell_type": "code",
   "execution_count": 74,
   "metadata": {},
   "outputs": [],
   "source": [
    "buildings['incident_ids'] = buildings['incident_ids'].map(literal_eval)"
   ]
  },
  {
   "cell_type": "code",
   "execution_count": 75,
   "metadata": {},
   "outputs": [
    {
     "data": {
      "text/html": [
       "<div>\n",
       "<style>\n",
       "    .dataframe thead tr:only-child th {\n",
       "        text-align: right;\n",
       "    }\n",
       "\n",
       "    .dataframe thead th {\n",
       "        text-align: left;\n",
       "    }\n",
       "\n",
       "    .dataframe tbody tr th {\n",
       "        vertical-align: top;\n",
       "    }\n",
       "</style>\n",
       "<table border=\"1\" class=\"dataframe\">\n",
       "  <thead>\n",
       "    <tr style=\"text-align: right;\">\n",
       "      <th></th>\n",
       "      <th>bottom_left</th>\n",
       "      <th>top_right</th>\n",
       "      <th>addr</th>\n",
       "      <th>cluster</th>\n",
       "      <th>num</th>\n",
       "      <th>incident_ids</th>\n",
       "      <th>building_id</th>\n",
       "    </tr>\n",
       "  </thead>\n",
       "  <tbody>\n",
       "    <tr>\n",
       "      <th>0</th>\n",
       "      <td>[42.255267051000068, -83.161064993999986]</td>\n",
       "      <td>[42.255811, -83.16050500000003]</td>\n",
       "      <td>26585 OUTER DRIVE</td>\n",
       "      <td>0</td>\n",
       "      <td>2</td>\n",
       "      <td>[53453.0, 446027.0]</td>\n",
       "      <td>0</td>\n",
       "    </tr>\n",
       "    <tr>\n",
       "      <th>1</th>\n",
       "      <td>[42.256026999999996, -83.1607722]</td>\n",
       "      <td>[42.256177, -83.1606222]</td>\n",
       "      <td>3808 S Bassett St</td>\n",
       "      <td>1</td>\n",
       "      <td>1</td>\n",
       "      <td>[446640.0]</td>\n",
       "      <td>1</td>\n",
       "    </tr>\n",
       "    <tr>\n",
       "      <th>2</th>\n",
       "      <td>[42.256281200000004, -83.160299]</td>\n",
       "      <td>[42.25643120000001, -83.160149]</td>\n",
       "      <td>3795 S. Bassett</td>\n",
       "      <td>2</td>\n",
       "      <td>1</td>\n",
       "      <td>[446574.0]</td>\n",
       "      <td>2</td>\n",
       "    </tr>\n",
       "  </tbody>\n",
       "</table>\n",
       "</div>"
      ],
      "text/plain": [
       "                                 bottom_left                        top_right  \\\n",
       "0  [42.255267051000068, -83.161064993999986]  [42.255811, -83.16050500000003]   \n",
       "1          [42.256026999999996, -83.1607722]         [42.256177, -83.1606222]   \n",
       "2           [42.256281200000004, -83.160299]  [42.25643120000001, -83.160149]   \n",
       "\n",
       "                addr  cluster  num         incident_ids  building_id  \n",
       "0  26585 OUTER DRIVE        0    2  [53453.0, 446027.0]            0  \n",
       "1  3808 S Bassett St        1    1           [446640.0]            1  \n",
       "2    3795 S. Bassett        2    1           [446574.0]            2  "
      ]
     },
     "execution_count": 75,
     "metadata": {},
     "output_type": "execute_result"
    }
   ],
   "source": [
    "buildings.head(3)"
   ]
  },
  {
   "cell_type": "markdown",
   "metadata": {},
   "source": [
    "### Extract Meaningful Features for prediction"
   ]
  },
  {
   "cell_type": "code",
   "execution_count": 76,
   "metadata": {
    "collapsed": true
   },
   "outputs": [],
   "source": [
    "def get_incident_to_building_mapping(buildings):\n",
    "    mapping = {}\n",
    "    for index, row in buildings.iterrows():\n",
    "        for y in row['incident_ids']:\n",
    "            if y not in mapping:\n",
    "                mapping[y] = [row['building_id']]\n",
    "            else:\n",
    "                mapping[y].append(row['building_id'])\n",
    "    return mapping"
   ]
  },
  {
   "cell_type": "code",
   "execution_count": 77,
   "metadata": {
    "collapsed": true
   },
   "outputs": [],
   "source": [
    "incident_to_building_mapping = get_incident_to_building_mapping(buildings)"
   ]
  },
  {
   "cell_type": "code",
   "execution_count": 91,
   "metadata": {
    "collapsed": true
   },
   "outputs": [],
   "source": [
    "pre_train_df = pd.read_csv('../data/train.csv')\n",
    "all_df = pd.read_csv('../data/all_incidents.csv')\n",
    "\n",
    "train_ids = pre_train_df['building_id'].tolist()\n",
    "train_df = all_df[all_df.building_id.isin(train_ids)]\n",
    "train_df_labeled = pd.merge(pre_train_df, train_df, on='building_id', how='left')"
   ]
  },
  {
   "cell_type": "code",
   "execution_count": 92,
   "metadata": {},
   "outputs": [
    {
     "data": {
      "text/html": [
       "<div>\n",
       "<style>\n",
       "    .dataframe thead tr:only-child th {\n",
       "        text-align: right;\n",
       "    }\n",
       "\n",
       "    .dataframe thead th {\n",
       "        text-align: left;\n",
       "    }\n",
       "\n",
       "    .dataframe tbody tr th {\n",
       "        vertical-align: top;\n",
       "    }\n",
       "</style>\n",
       "<table border=\"1\" class=\"dataframe\">\n",
       "  <thead>\n",
       "    <tr style=\"text-align: right;\">\n",
       "      <th></th>\n",
       "      <th>building_id</th>\n",
       "      <th>blighted</th>\n",
       "      <th>call_count</th>\n",
       "      <th>call_avg_rating</th>\n",
       "      <th>call_other_type_count</th>\n",
       "      <th>call_ticket_archived_count</th>\n",
       "      <th>call_ticket_closed_count</th>\n",
       "      <th>call_ticket_acknowledged_count</th>\n",
       "      <th>call_ticket_open_count</th>\n",
       "      <th>call_illegal_dumping_count</th>\n",
       "      <th>call_tree_count</th>\n",
       "      <th>call_running_water_count</th>\n",
       "      <th>call_clogged_drain_count</th>\n",
       "      <th>call_potholes_count</th>\n",
       "      <th>call_traffic_sign_count</th>\n",
       "      <th>call_water_main_break_count</th>\n",
       "      <th>call_fire_hydrant_count</th>\n",
       "      <th>call_abandoned_vehicle_count</th>\n",
       "      <th>call_manhole_cover_count</th>\n",
       "      <th>call_traffic_signal_count</th>\n",
       "      <th>call_trash_bulk_waste_count</th>\n",
       "      <th>call_dpw_debris_removal_count</th>\n",
       "      <th>call_st_light_pole_down_count</th>\n",
       "      <th>call_curbside_solid_waste_count</th>\n",
       "      <th>call_dpw_others_count</th>\n",
       "      <th>call_trash_improper_placement_count</th>\n",
       "      <th>call_res_snow_removal_count</th>\n",
       "      <th>call_graffiti_count</th>\n",
       "      <th>crime_count</th>\n",
       "      <th>crime_other_crime_count</th>\n",
       "      <th>crime_traffic_violations-motorcycle_violations_count</th>\n",
       "      <th>crime_assault_count</th>\n",
       "      <th>crime_larceny_count</th>\n",
       "      <th>crime_damage_to_property_count</th>\n",
       "      <th>crime_aggravated_assault_count</th>\n",
       "      <th>crime_burglary_count</th>\n",
       "      <th>crime_stolen_vehicle_count</th>\n",
       "      <th>crime_traffic_violations-driving_on_suspended_count</th>\n",
       "      <th>crime_fraud_count</th>\n",
       "      <th>crime_robbery_count</th>\n",
       "      <th>crime_dangerous_drugs_count</th>\n",
       "      <th>crime_obstructing_judiciary_count</th>\n",
       "      <th>crime_weapons_offenses_count</th>\n",
       "      <th>crime_escape_count</th>\n",
       "      <th>crime_solicitation_count</th>\n",
       "      <th>crime_bribery_count</th>\n",
       "      <th>crime_arson_count</th>\n",
       "      <th>crime_ouil_dispose_of_vehicle_to_avoid_forfeiture_count</th>\n",
       "      <th>crime_runaway_count</th>\n",
       "      <th>crime_stolen_property_count</th>\n",
       "      <th>crime_obstructing_the_police_count</th>\n",
       "      <th>crime_family_offense_count</th>\n",
       "      <th>crime_homicide_count</th>\n",
       "      <th>crime_other_burglary_count</th>\n",
       "      <th>crime_health-safety_count</th>\n",
       "      <th>crime_kidnaping_count</th>\n",
       "      <th>crime_forgery_count</th>\n",
       "      <th>crime_extortion_count</th>\n",
       "      <th>crime_public_peace_count</th>\n",
       "      <th>crime_environment_count</th>\n",
       "    </tr>\n",
       "  </thead>\n",
       "  <tbody>\n",
       "    <tr>\n",
       "      <th>0</th>\n",
       "      <td>96</td>\n",
       "      <td>1</td>\n",
       "      <td>0.0</td>\n",
       "      <td>0.0</td>\n",
       "      <td>0.0</td>\n",
       "      <td>0.0</td>\n",
       "      <td>0.0</td>\n",
       "      <td>0.0</td>\n",
       "      <td>0.0</td>\n",
       "      <td>0.0</td>\n",
       "      <td>0.0</td>\n",
       "      <td>0.0</td>\n",
       "      <td>0.0</td>\n",
       "      <td>0.0</td>\n",
       "      <td>0.0</td>\n",
       "      <td>0.0</td>\n",
       "      <td>0.0</td>\n",
       "      <td>0.0</td>\n",
       "      <td>0.0</td>\n",
       "      <td>0.0</td>\n",
       "      <td>0.0</td>\n",
       "      <td>0.0</td>\n",
       "      <td>0.0</td>\n",
       "      <td>0.0</td>\n",
       "      <td>0.0</td>\n",
       "      <td>0.0</td>\n",
       "      <td>0.0</td>\n",
       "      <td>0.0</td>\n",
       "      <td>0.0</td>\n",
       "      <td>0.0</td>\n",
       "      <td>0.0</td>\n",
       "      <td>0.0</td>\n",
       "      <td>0.0</td>\n",
       "      <td>0.0</td>\n",
       "      <td>0.0</td>\n",
       "      <td>0.0</td>\n",
       "      <td>0.0</td>\n",
       "      <td>0.0</td>\n",
       "      <td>0.0</td>\n",
       "      <td>0.0</td>\n",
       "      <td>0.0</td>\n",
       "      <td>0.0</td>\n",
       "      <td>0.0</td>\n",
       "      <td>0.0</td>\n",
       "      <td>0.0</td>\n",
       "      <td>0.0</td>\n",
       "      <td>0.0</td>\n",
       "      <td>0.0</td>\n",
       "      <td>0.0</td>\n",
       "      <td>0.0</td>\n",
       "      <td>0.0</td>\n",
       "      <td>0.0</td>\n",
       "      <td>0.0</td>\n",
       "      <td>0.0</td>\n",
       "      <td>0.0</td>\n",
       "      <td>0.0</td>\n",
       "      <td>0.0</td>\n",
       "      <td>0.0</td>\n",
       "      <td>0.0</td>\n",
       "      <td>0.0</td>\n",
       "    </tr>\n",
       "    <tr>\n",
       "      <th>1</th>\n",
       "      <td>101</td>\n",
       "      <td>1</td>\n",
       "      <td>0.0</td>\n",
       "      <td>0.0</td>\n",
       "      <td>0.0</td>\n",
       "      <td>0.0</td>\n",
       "      <td>0.0</td>\n",
       "      <td>0.0</td>\n",
       "      <td>0.0</td>\n",
       "      <td>0.0</td>\n",
       "      <td>0.0</td>\n",
       "      <td>0.0</td>\n",
       "      <td>0.0</td>\n",
       "      <td>0.0</td>\n",
       "      <td>0.0</td>\n",
       "      <td>0.0</td>\n",
       "      <td>0.0</td>\n",
       "      <td>0.0</td>\n",
       "      <td>0.0</td>\n",
       "      <td>0.0</td>\n",
       "      <td>0.0</td>\n",
       "      <td>0.0</td>\n",
       "      <td>0.0</td>\n",
       "      <td>0.0</td>\n",
       "      <td>0.0</td>\n",
       "      <td>0.0</td>\n",
       "      <td>0.0</td>\n",
       "      <td>0.0</td>\n",
       "      <td>0.0</td>\n",
       "      <td>0.0</td>\n",
       "      <td>0.0</td>\n",
       "      <td>0.0</td>\n",
       "      <td>0.0</td>\n",
       "      <td>0.0</td>\n",
       "      <td>0.0</td>\n",
       "      <td>0.0</td>\n",
       "      <td>0.0</td>\n",
       "      <td>0.0</td>\n",
       "      <td>0.0</td>\n",
       "      <td>0.0</td>\n",
       "      <td>0.0</td>\n",
       "      <td>0.0</td>\n",
       "      <td>0.0</td>\n",
       "      <td>0.0</td>\n",
       "      <td>0.0</td>\n",
       "      <td>0.0</td>\n",
       "      <td>0.0</td>\n",
       "      <td>0.0</td>\n",
       "      <td>0.0</td>\n",
       "      <td>0.0</td>\n",
       "      <td>0.0</td>\n",
       "      <td>0.0</td>\n",
       "      <td>0.0</td>\n",
       "      <td>0.0</td>\n",
       "      <td>0.0</td>\n",
       "      <td>0.0</td>\n",
       "      <td>0.0</td>\n",
       "      <td>0.0</td>\n",
       "      <td>0.0</td>\n",
       "      <td>0.0</td>\n",
       "    </tr>\n",
       "    <tr>\n",
       "      <th>2</th>\n",
       "      <td>290</td>\n",
       "      <td>1</td>\n",
       "      <td>0.0</td>\n",
       "      <td>0.0</td>\n",
       "      <td>0.0</td>\n",
       "      <td>0.0</td>\n",
       "      <td>0.0</td>\n",
       "      <td>0.0</td>\n",
       "      <td>0.0</td>\n",
       "      <td>0.0</td>\n",
       "      <td>0.0</td>\n",
       "      <td>0.0</td>\n",
       "      <td>0.0</td>\n",
       "      <td>0.0</td>\n",
       "      <td>0.0</td>\n",
       "      <td>0.0</td>\n",
       "      <td>0.0</td>\n",
       "      <td>0.0</td>\n",
       "      <td>0.0</td>\n",
       "      <td>0.0</td>\n",
       "      <td>0.0</td>\n",
       "      <td>0.0</td>\n",
       "      <td>0.0</td>\n",
       "      <td>0.0</td>\n",
       "      <td>0.0</td>\n",
       "      <td>0.0</td>\n",
       "      <td>0.0</td>\n",
       "      <td>0.0</td>\n",
       "      <td>0.0</td>\n",
       "      <td>0.0</td>\n",
       "      <td>0.0</td>\n",
       "      <td>0.0</td>\n",
       "      <td>0.0</td>\n",
       "      <td>0.0</td>\n",
       "      <td>0.0</td>\n",
       "      <td>0.0</td>\n",
       "      <td>0.0</td>\n",
       "      <td>0.0</td>\n",
       "      <td>0.0</td>\n",
       "      <td>0.0</td>\n",
       "      <td>0.0</td>\n",
       "      <td>0.0</td>\n",
       "      <td>0.0</td>\n",
       "      <td>0.0</td>\n",
       "      <td>0.0</td>\n",
       "      <td>0.0</td>\n",
       "      <td>0.0</td>\n",
       "      <td>0.0</td>\n",
       "      <td>0.0</td>\n",
       "      <td>0.0</td>\n",
       "      <td>0.0</td>\n",
       "      <td>0.0</td>\n",
       "      <td>0.0</td>\n",
       "      <td>0.0</td>\n",
       "      <td>0.0</td>\n",
       "      <td>0.0</td>\n",
       "      <td>0.0</td>\n",
       "      <td>0.0</td>\n",
       "      <td>0.0</td>\n",
       "      <td>0.0</td>\n",
       "    </tr>\n",
       "  </tbody>\n",
       "</table>\n",
       "</div>"
      ],
      "text/plain": [
       "   building_id  blighted  call_count  call_avg_rating  call_other_type_count  \\\n",
       "0           96         1         0.0              0.0                    0.0   \n",
       "1          101         1         0.0              0.0                    0.0   \n",
       "2          290         1         0.0              0.0                    0.0   \n",
       "\n",
       "   call_ticket_archived_count  call_ticket_closed_count  \\\n",
       "0                         0.0                       0.0   \n",
       "1                         0.0                       0.0   \n",
       "2                         0.0                       0.0   \n",
       "\n",
       "   call_ticket_acknowledged_count  call_ticket_open_count  \\\n",
       "0                             0.0                     0.0   \n",
       "1                             0.0                     0.0   \n",
       "2                             0.0                     0.0   \n",
       "\n",
       "   call_illegal_dumping_count  call_tree_count  call_running_water_count  \\\n",
       "0                         0.0              0.0                       0.0   \n",
       "1                         0.0              0.0                       0.0   \n",
       "2                         0.0              0.0                       0.0   \n",
       "\n",
       "   call_clogged_drain_count  call_potholes_count  call_traffic_sign_count  \\\n",
       "0                       0.0                  0.0                      0.0   \n",
       "1                       0.0                  0.0                      0.0   \n",
       "2                       0.0                  0.0                      0.0   \n",
       "\n",
       "   call_water_main_break_count  call_fire_hydrant_count  \\\n",
       "0                          0.0                      0.0   \n",
       "1                          0.0                      0.0   \n",
       "2                          0.0                      0.0   \n",
       "\n",
       "   call_abandoned_vehicle_count  call_manhole_cover_count  \\\n",
       "0                           0.0                       0.0   \n",
       "1                           0.0                       0.0   \n",
       "2                           0.0                       0.0   \n",
       "\n",
       "   call_traffic_signal_count  call_trash_bulk_waste_count  \\\n",
       "0                        0.0                          0.0   \n",
       "1                        0.0                          0.0   \n",
       "2                        0.0                          0.0   \n",
       "\n",
       "   call_dpw_debris_removal_count  call_st_light_pole_down_count  \\\n",
       "0                            0.0                            0.0   \n",
       "1                            0.0                            0.0   \n",
       "2                            0.0                            0.0   \n",
       "\n",
       "   call_curbside_solid_waste_count  call_dpw_others_count  \\\n",
       "0                              0.0                    0.0   \n",
       "1                              0.0                    0.0   \n",
       "2                              0.0                    0.0   \n",
       "\n",
       "   call_trash_improper_placement_count  call_res_snow_removal_count  \\\n",
       "0                                  0.0                          0.0   \n",
       "1                                  0.0                          0.0   \n",
       "2                                  0.0                          0.0   \n",
       "\n",
       "   call_graffiti_count  crime_count  crime_other_crime_count  \\\n",
       "0                  0.0          0.0                      0.0   \n",
       "1                  0.0          0.0                      0.0   \n",
       "2                  0.0          0.0                      0.0   \n",
       "\n",
       "   crime_traffic_violations-motorcycle_violations_count  crime_assault_count  \\\n",
       "0                                                0.0                     0.0   \n",
       "1                                                0.0                     0.0   \n",
       "2                                                0.0                     0.0   \n",
       "\n",
       "   crime_larceny_count  crime_damage_to_property_count  \\\n",
       "0                  0.0                             0.0   \n",
       "1                  0.0                             0.0   \n",
       "2                  0.0                             0.0   \n",
       "\n",
       "   crime_aggravated_assault_count  crime_burglary_count  \\\n",
       "0                             0.0                   0.0   \n",
       "1                             0.0                   0.0   \n",
       "2                             0.0                   0.0   \n",
       "\n",
       "   crime_stolen_vehicle_count  \\\n",
       "0                         0.0   \n",
       "1                         0.0   \n",
       "2                         0.0   \n",
       "\n",
       "   crime_traffic_violations-driving_on_suspended_count  crime_fraud_count  \\\n",
       "0                                                0.0                  0.0   \n",
       "1                                                0.0                  0.0   \n",
       "2                                                0.0                  0.0   \n",
       "\n",
       "   crime_robbery_count  crime_dangerous_drugs_count  \\\n",
       "0                  0.0                          0.0   \n",
       "1                  0.0                          0.0   \n",
       "2                  0.0                          0.0   \n",
       "\n",
       "   crime_obstructing_judiciary_count  crime_weapons_offenses_count  \\\n",
       "0                                0.0                           0.0   \n",
       "1                                0.0                           0.0   \n",
       "2                                0.0                           0.0   \n",
       "\n",
       "   crime_escape_count  crime_solicitation_count  crime_bribery_count  \\\n",
       "0                 0.0                       0.0                  0.0   \n",
       "1                 0.0                       0.0                  0.0   \n",
       "2                 0.0                       0.0                  0.0   \n",
       "\n",
       "   crime_arson_count  crime_ouil_dispose_of_vehicle_to_avoid_forfeiture_count  \\\n",
       "0                0.0                                                0.0         \n",
       "1                0.0                                                0.0         \n",
       "2                0.0                                                0.0         \n",
       "\n",
       "   crime_runaway_count  crime_stolen_property_count  \\\n",
       "0                  0.0                          0.0   \n",
       "1                  0.0                          0.0   \n",
       "2                  0.0                          0.0   \n",
       "\n",
       "   crime_obstructing_the_police_count  crime_family_offense_count  \\\n",
       "0                                 0.0                         0.0   \n",
       "1                                 0.0                         0.0   \n",
       "2                                 0.0                         0.0   \n",
       "\n",
       "   crime_homicide_count  crime_other_burglary_count  \\\n",
       "0                   0.0                         0.0   \n",
       "1                   0.0                         0.0   \n",
       "2                   0.0                         0.0   \n",
       "\n",
       "   crime_health-safety_count  crime_kidnaping_count  crime_forgery_count  \\\n",
       "0                        0.0                    0.0                  0.0   \n",
       "1                        0.0                    0.0                  0.0   \n",
       "2                        0.0                    0.0                  0.0   \n",
       "\n",
       "   crime_extortion_count  crime_public_peace_count  crime_environment_count  \n",
       "0                    0.0                       0.0                      0.0  \n",
       "1                    0.0                       0.0                      0.0  \n",
       "2                    0.0                       0.0                      0.0  "
      ]
     },
     "execution_count": 92,
     "metadata": {},
     "output_type": "execute_result"
    }
   ],
   "source": [
    "train_df_labeled.head(3)"
   ]
  },
  {
   "cell_type": "code",
   "execution_count": 93,
   "metadata": {
    "collapsed": true
   },
   "outputs": [],
   "source": [
    "train_df_labeled.to_csv('../data/train_feat.csv', index=False)"
   ]
  },
  {
   "cell_type": "markdown",
   "metadata": {},
   "source": [
    "### Prediction : Logistic Regression"
   ]
  },
  {
   "cell_type": "code",
   "execution_count": 95,
   "metadata": {},
   "outputs": [],
   "source": [
    "top_20_features = ['crime_count','crime_traffic_violations-motorcycle_violations_count','call_avg_rating','call_count','crime_larceny_count','crime_assault_count','crime_damage_to_property_count','crime_aggravated_assault_count','crime_stolen_vehicle_count','call_ticket_archived_count','call_ticket_closed_count','crime_traffic_violations-driving_on_suspended_count','crime_burglary_count','crime_fraud_count','crime_robbery_count','call_tree_count','crime_dangerous_drugs_count','call_running_water_count','call_potholes_count','call_illegal_dumping_count']"
   ]
  },
  {
   "cell_type": "code",
   "execution_count": 97,
   "metadata": {
    "collapsed": true
   },
   "outputs": [],
   "source": [
    "logreg = linear_model.LogisticRegression(C=1e5)"
   ]
  },
  {
   "cell_type": "code",
   "execution_count": 98,
   "metadata": {
    "collapsed": true
   },
   "outputs": [],
   "source": [
    "\"\"\"\n",
    "Load Dataset for Classification\n",
    "\"\"\"\n",
    "X = train_df_labeled.drop(['building_id', 'blighted'], axis=1)\n",
    "y = train_df_labeled['blighted']"
   ]
  },
  {
   "cell_type": "code",
   "execution_count": 102,
   "metadata": {
    "collapsed": true
   },
   "outputs": [],
   "source": [
    "X[top_20_features].to_csv('../data/input.csv', index=False)\n",
    "y.to_csv('../data/output.csv', index=False)"
   ]
  },
  {
   "cell_type": "code",
   "execution_count": 103,
   "metadata": {
    "collapsed": true
   },
   "outputs": [],
   "source": [
    "X_train, X_test, y_train, y_test = train_test_split(X, y, test_size=0.3, stratify = y, random_state=1027)"
   ]
  },
  {
   "cell_type": "code",
   "execution_count": 104,
   "metadata": {
    "collapsed": true
   },
   "outputs": [],
   "source": [
    "x_train = X_train[top_20_features]\n",
    "x_test = X_test[top_20_features]"
   ]
  },
  {
   "cell_type": "code",
   "execution_count": 108,
   "metadata": {},
   "outputs": [
    {
     "name": "stdout",
     "output_type": "stream",
     "text": [
      "Accuracy on test data is 67.4089678002%\n"
     ]
    }
   ],
   "source": [
    "logreg.fit(x_train, y_train)\n",
    "print(\"Accuracy on test data is \"+str(logreg.score(x_test, y_test)*100)+\"%\")"
   ]
  },
  {
   "cell_type": "code",
   "execution_count": null,
   "metadata": {
    "collapsed": true
   },
   "outputs": [],
   "source": []
  }
 ],
 "metadata": {
  "kernelspec": {
   "display_name": "Python 3",
   "language": "python",
   "name": "python3"
  },
  "language_info": {
   "codemirror_mode": {
    "name": "ipython",
    "version": 3
   },
   "file_extension": ".py",
   "mimetype": "text/x-python",
   "name": "python",
   "nbconvert_exporter": "python",
   "pygments_lexer": "ipython3",
   "version": "3.6.2"
  }
 },
 "nbformat": 4,
 "nbformat_minor": 2
}
